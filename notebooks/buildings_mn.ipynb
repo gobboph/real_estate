{
 "cells": [
  {
   "cell_type": "code",
   "execution_count": null,
   "metadata": {
    "collapsed": true
   },
   "outputs": [],
   "source": [
    "%matplotlib inline\n",
    "import pandas as pd\n",
    "import csv as csv\n",
    "import numpy as np\n",
    "from matplotlib import pyplot as plt\n",
    "import seaborn as sns\n",
    "#from sklearn import datasets, linear_model\n",
    "import matplotlib\n",
    "import matplotlib.pylab as pl\n",
    "#from matplotlib import rcParams\n",
    "#from mpl_toolkits.basemap import Basemap\n",
    "#import sqlite3"
   ]
  },
  {
   "cell_type": "code",
   "execution_count": 2,
   "metadata": {
    "collapsed": false
   },
   "outputs": [],
   "source": [
    "mn = pd.read_csv('../data/MN.csv', header=0,\n",
    "                 dtype={'ZoneDist4':str, 'SPDist1':str, 'SPDist2':str, 'EDesigNum':str,'LtdHeight':str}\n",
    "                )"
   ]
  },
  {
   "cell_type": "code",
   "execution_count": 3,
   "metadata": {
    "collapsed": true
   },
   "outputs": [],
   "source": [
    "#st = 'Borough,Block,Lot,CD,CT2010,CB2010,SchoolDist,Council,ZipCode,FireComp,PolicePrct,HealthArea,SanitBoro,SanitDistrict,SanitSub,Address,ZoneDist1,ZoneDist2,ZoneDist3,ZoneDist4,Overlay1,Overlay2,SPDist1,SPDist2,LtdHeight,AllZoning1,AllZoning2,SplitZone,BldgClass,LandUse,Easements,OwnerType,OwnerName,LotArea,BldgArea,ComArea,ResArea,OfficeArea,RetailArea,GarageArea,StrgeArea,FactryArea,OtherArea,AreaSource,NumBldgs,NumFloors,UnitsRes,UnitsTotal,LotFront,LotDepth,BldgFront,BldgDepth,Ext,ProxCode,IrrLotCode,LotType,BsmtCode,AssessLand,AssessTot,ExemptLand,ExemptTot,YearBuilt,BuiltCode,YearAlter1,YearAlter2,HistDist,Landmark,BuiltFAR,ResidFAR,CommFAR,FacilFAR,BoroCode,BBL,CondoNo,Tract2010,XCoord,YCoord,ZoneMap,ZMCode,Sanborn,TaxMap,EDesigNum,APPBBL,APPDate,PLUTOMapID,Version'"
   ]
  },
  {
   "cell_type": "code",
   "execution_count": 4,
   "metadata": {
    "collapsed": false
   },
   "outputs": [],
   "source": [
    "#li = st.split(',')"
   ]
  },
  {
   "cell_type": "code",
   "execution_count": 5,
   "metadata": {
    "collapsed": false
   },
   "outputs": [],
   "source": [
    "#li[81]"
   ]
  },
  {
   "cell_type": "code",
   "execution_count": 3,
   "metadata": {
    "collapsed": false
   },
   "outputs": [
    {
     "data": {
      "text/html": [
       "<div>\n",
       "<table border=\"1\" class=\"dataframe\">\n",
       "  <thead>\n",
       "    <tr style=\"text-align: right;\">\n",
       "      <th></th>\n",
       "      <th>Borough</th>\n",
       "      <th>Block</th>\n",
       "      <th>Lot</th>\n",
       "      <th>CD</th>\n",
       "      <th>CT2010</th>\n",
       "      <th>CB2010</th>\n",
       "      <th>SchoolDist</th>\n",
       "      <th>Council</th>\n",
       "      <th>ZipCode</th>\n",
       "      <th>FireComp</th>\n",
       "      <th>...</th>\n",
       "      <th>YCoord</th>\n",
       "      <th>ZoneMap</th>\n",
       "      <th>ZMCode</th>\n",
       "      <th>Sanborn</th>\n",
       "      <th>TaxMap</th>\n",
       "      <th>EDesigNum</th>\n",
       "      <th>APPBBL</th>\n",
       "      <th>APPDate</th>\n",
       "      <th>PLUTOMapID</th>\n",
       "      <th>Version</th>\n",
       "    </tr>\n",
       "  </thead>\n",
       "  <tbody>\n",
       "    <tr>\n",
       "      <th>0</th>\n",
       "      <td>MN</td>\n",
       "      <td>1</td>\n",
       "      <td>10</td>\n",
       "      <td>101</td>\n",
       "      <td>5.0</td>\n",
       "      <td>1018.0</td>\n",
       "      <td>2.0</td>\n",
       "      <td>1.0</td>\n",
       "      <td>10004.0</td>\n",
       "      <td>E007</td>\n",
       "      <td>...</td>\n",
       "      <td>190225.0</td>\n",
       "      <td>16a</td>\n",
       "      <td>Y</td>\n",
       "      <td>199 999</td>\n",
       "      <td>10101.0</td>\n",
       "      <td>NaN</td>\n",
       "      <td>0.0</td>\n",
       "      <td>NaN</td>\n",
       "      <td>1</td>\n",
       "      <td>16v1</td>\n",
       "    </tr>\n",
       "    <tr>\n",
       "      <th>1</th>\n",
       "      <td>MN</td>\n",
       "      <td>1</td>\n",
       "      <td>101</td>\n",
       "      <td>101</td>\n",
       "      <td>1.0</td>\n",
       "      <td>1001.0</td>\n",
       "      <td>2.0</td>\n",
       "      <td>1.0</td>\n",
       "      <td>10004.0</td>\n",
       "      <td>E007</td>\n",
       "      <td>...</td>\n",
       "      <td>190636.0</td>\n",
       "      <td>16a</td>\n",
       "      <td>Y</td>\n",
       "      <td>199 999</td>\n",
       "      <td>10101.0</td>\n",
       "      <td>NaN</td>\n",
       "      <td>0.0</td>\n",
       "      <td>NaN</td>\n",
       "      <td>1</td>\n",
       "      <td>16v1</td>\n",
       "    </tr>\n",
       "    <tr>\n",
       "      <th>2</th>\n",
       "      <td>MN</td>\n",
       "      <td>1</td>\n",
       "      <td>201</td>\n",
       "      <td>101</td>\n",
       "      <td>1.0</td>\n",
       "      <td>1000.0</td>\n",
       "      <td>2.0</td>\n",
       "      <td>1.0</td>\n",
       "      <td>10004.0</td>\n",
       "      <td>E007</td>\n",
       "      <td>...</td>\n",
       "      <td>193648.0</td>\n",
       "      <td>12b</td>\n",
       "      <td>NaN</td>\n",
       "      <td>199 999</td>\n",
       "      <td>10101.0</td>\n",
       "      <td>NaN</td>\n",
       "      <td>0.0</td>\n",
       "      <td>NaN</td>\n",
       "      <td>1</td>\n",
       "      <td>16v1</td>\n",
       "    </tr>\n",
       "    <tr>\n",
       "      <th>3</th>\n",
       "      <td>MN</td>\n",
       "      <td>1</td>\n",
       "      <td>301</td>\n",
       "      <td>101</td>\n",
       "      <td>NaN</td>\n",
       "      <td>NaN</td>\n",
       "      <td>2.0</td>\n",
       "      <td>1.0</td>\n",
       "      <td>10004.0</td>\n",
       "      <td>E007</td>\n",
       "      <td>...</td>\n",
       "      <td>NaN</td>\n",
       "      <td>12b</td>\n",
       "      <td>NaN</td>\n",
       "      <td>199 999</td>\n",
       "      <td>10101.0</td>\n",
       "      <td>NaN</td>\n",
       "      <td>0.0</td>\n",
       "      <td>NaN</td>\n",
       "      <td>4</td>\n",
       "      <td>16v1</td>\n",
       "    </tr>\n",
       "    <tr>\n",
       "      <th>4</th>\n",
       "      <td>MN</td>\n",
       "      <td>1</td>\n",
       "      <td>401</td>\n",
       "      <td>101</td>\n",
       "      <td>NaN</td>\n",
       "      <td>NaN</td>\n",
       "      <td>2.0</td>\n",
       "      <td>1.0</td>\n",
       "      <td>10004.0</td>\n",
       "      <td>E007</td>\n",
       "      <td>...</td>\n",
       "      <td>NaN</td>\n",
       "      <td>12b</td>\n",
       "      <td>NaN</td>\n",
       "      <td>1 99 999</td>\n",
       "      <td>10101.0</td>\n",
       "      <td>NaN</td>\n",
       "      <td>0.0</td>\n",
       "      <td>NaN</td>\n",
       "      <td>4</td>\n",
       "      <td>16v1</td>\n",
       "    </tr>\n",
       "  </tbody>\n",
       "</table>\n",
       "<p>5 rows × 86 columns</p>\n",
       "</div>"
      ],
      "text/plain": [
       "  Borough  Block  Lot   CD  CT2010  CB2010  SchoolDist  Council  ZipCode  \\\n",
       "0      MN      1   10  101     5.0  1018.0         2.0      1.0  10004.0   \n",
       "1      MN      1  101  101     1.0  1001.0         2.0      1.0  10004.0   \n",
       "2      MN      1  201  101     1.0  1000.0         2.0      1.0  10004.0   \n",
       "3      MN      1  301  101     NaN     NaN         2.0      1.0  10004.0   \n",
       "4      MN      1  401  101     NaN     NaN         2.0      1.0  10004.0   \n",
       "\n",
       "  FireComp   ...      YCoord  ZoneMap  ZMCode   Sanborn   TaxMap EDesigNum  \\\n",
       "0     E007   ...    190225.0      16a       Y   199 999  10101.0       NaN   \n",
       "1     E007   ...    190636.0      16a       Y   199 999  10101.0       NaN   \n",
       "2     E007   ...    193648.0      12b     NaN   199 999  10101.0       NaN   \n",
       "3     E007   ...         NaN      12b     NaN   199 999  10101.0       NaN   \n",
       "4     E007   ...         NaN      12b     NaN  1 99 999  10101.0       NaN   \n",
       "\n",
       "  APPBBL APPDate PLUTOMapID Version  \n",
       "0    0.0     NaN          1    16v1  \n",
       "1    0.0     NaN          1    16v1  \n",
       "2    0.0     NaN          1    16v1  \n",
       "3    0.0     NaN          4    16v1  \n",
       "4    0.0     NaN          4    16v1  \n",
       "\n",
       "[5 rows x 86 columns]"
      ]
     },
     "execution_count": 3,
     "metadata": {},
     "output_type": "execute_result"
    }
   ],
   "source": [
    "mn.head()"
   ]
  },
  {
   "cell_type": "code",
   "execution_count": 4,
   "metadata": {
    "collapsed": false
   },
   "outputs": [
    {
     "data": {
      "text/plain": [
       "Index(['Borough', 'Block', 'Lot', 'CD', 'CT2010', 'CB2010', 'SchoolDist',\n",
       "       'Council', 'ZipCode', 'FireComp', 'PolicePrct', 'HealthArea',\n",
       "       'SanitBoro', 'SanitDistrict', 'SanitSub', 'Address', 'ZoneDist1',\n",
       "       'ZoneDist2', 'ZoneDist3', 'ZoneDist4', 'Overlay1', 'Overlay2',\n",
       "       'SPDist1', 'SPDist2', 'LtdHeight', 'AllZoning1', 'AllZoning2',\n",
       "       'SplitZone', 'BldgClass', 'LandUse', 'Easements', 'OwnerType',\n",
       "       'OwnerName', 'LotArea', 'BldgArea', 'ComArea', 'ResArea', 'OfficeArea',\n",
       "       'RetailArea', 'GarageArea', 'StrgeArea', 'FactryArea', 'OtherArea',\n",
       "       'AreaSource', 'NumBldgs', 'NumFloors', 'UnitsRes', 'UnitsTotal',\n",
       "       'LotFront', 'LotDepth', 'BldgFront', 'BldgDepth', 'Ext', 'ProxCode',\n",
       "       'IrrLotCode', 'LotType', 'BsmtCode', 'AssessLand', 'AssessTot',\n",
       "       'ExemptLand', 'ExemptTot', 'YearBuilt', 'BuiltCode', 'YearAlter1',\n",
       "       'YearAlter2', 'HistDist', 'Landmark', 'BuiltFAR', 'ResidFAR', 'CommFAR',\n",
       "       'FacilFAR', 'BoroCode', 'BBL', 'CondoNo', 'Tract2010', 'XCoord',\n",
       "       'YCoord', 'ZoneMap', 'ZMCode', 'Sanborn', 'TaxMap', 'EDesigNum',\n",
       "       'APPBBL', 'APPDate', 'PLUTOMapID', 'Version'],\n",
       "      dtype='object')"
      ]
     },
     "execution_count": 4,
     "metadata": {},
     "output_type": "execute_result"
    }
   ],
   "source": [
    "mn.columns"
   ]
  },
  {
   "cell_type": "code",
   "execution_count": 5,
   "metadata": {
    "collapsed": false
   },
   "outputs": [
    {
     "data": {
      "text/plain": [
       "33422"
      ]
     },
     "execution_count": 5,
     "metadata": {},
     "output_type": "execute_result"
    }
   ],
   "source": [
    "mn.OwnerName.nunique()"
   ]
  },
  {
   "cell_type": "code",
   "execution_count": 6,
   "metadata": {
    "collapsed": false
   },
   "outputs": [
    {
     "data": {
      "text/plain": [
       "43158"
      ]
     },
     "execution_count": 6,
     "metadata": {},
     "output_type": "execute_result"
    }
   ],
   "source": [
    "len(mn)"
   ]
  },
  {
   "cell_type": "code",
   "execution_count": 7,
   "metadata": {
    "collapsed": false
   },
   "outputs": [
    {
     "data": {
      "text/plain": [
       "295    5.0\n",
       "Name: LandUse, dtype: float64"
      ]
     },
     "execution_count": 7,
     "metadata": {},
     "output_type": "execute_result"
    }
   ],
   "source": [
    "mn.loc[mn.NumFloors == mn.NumFloors.max(),'LandUse']"
   ]
  },
  {
   "cell_type": "code",
   "execution_count": 8,
   "metadata": {
    "collapsed": false
   },
   "outputs": [
    {
     "data": {
      "text/plain": [
       "24114"
      ]
     },
     "execution_count": 8,
     "metadata": {},
     "output_type": "execute_result"
    }
   ],
   "source": [
    "mn.AssessTot.nunique()"
   ]
  },
  {
   "cell_type": "code",
   "execution_count": 9,
   "metadata": {
    "collapsed": false
   },
   "outputs": [
    {
     "data": {
      "text/plain": [
       "528"
      ]
     },
     "execution_count": 9,
     "metadata": {},
     "output_type": "execute_result"
    }
   ],
   "source": [
    "len(mn[mn.AssessTot==0])"
   ]
  },
  {
   "cell_type": "code",
   "execution_count": 11,
   "metadata": {
    "collapsed": false
   },
   "outputs": [
    {
     "data": {
      "text/html": [
       "<div>\n",
       "<table border=\"1\" class=\"dataframe\">\n",
       "  <thead>\n",
       "    <tr style=\"text-align: right;\">\n",
       "      <th></th>\n",
       "      <th>ZipCode</th>\n",
       "      <th>AssessTot</th>\n",
       "    </tr>\n",
       "  </thead>\n",
       "  <tbody>\n",
       "    <tr>\n",
       "      <th>18223</th>\n",
       "      <td>10065.0</td>\n",
       "      <td>3302640000</td>\n",
       "    </tr>\n",
       "    <tr>\n",
       "      <th>295</th>\n",
       "      <td>10007.0</td>\n",
       "      <td>1299184650</td>\n",
       "    </tr>\n",
       "    <tr>\n",
       "      <th>17285</th>\n",
       "      <td>10019.0</td>\n",
       "      <td>906933152</td>\n",
       "    </tr>\n",
       "    <tr>\n",
       "      <th>16388</th>\n",
       "      <td>10036.0</td>\n",
       "      <td>771809400</td>\n",
       "    </tr>\n",
       "    <tr>\n",
       "      <th>22301</th>\n",
       "      <td>10022.0</td>\n",
       "      <td>766783350</td>\n",
       "    </tr>\n",
       "    <tr>\n",
       "      <th>21862</th>\n",
       "      <td>10020.0</td>\n",
       "      <td>648205652</td>\n",
       "    </tr>\n",
       "    <tr>\n",
       "      <th>16347</th>\n",
       "      <td>10009.0</td>\n",
       "      <td>612072900</td>\n",
       "    </tr>\n",
       "    <tr>\n",
       "      <th>10619</th>\n",
       "      <td>10001.0</td>\n",
       "      <td>608369850</td>\n",
       "    </tr>\n",
       "    <tr>\n",
       "      <th>22101</th>\n",
       "      <td>10017.0</td>\n",
       "      <td>578211300</td>\n",
       "    </tr>\n",
       "    <tr>\n",
       "      <th>21864</th>\n",
       "      <td>10020.0</td>\n",
       "      <td>515041650</td>\n",
       "    </tr>\n",
       "  </tbody>\n",
       "</table>\n",
       "</div>"
      ],
      "text/plain": [
       "       ZipCode   AssessTot\n",
       "18223  10065.0  3302640000\n",
       "295    10007.0  1299184650\n",
       "17285  10019.0   906933152\n",
       "16388  10036.0   771809400\n",
       "22301  10022.0   766783350\n",
       "21862  10020.0   648205652\n",
       "16347  10009.0   612072900\n",
       "10619  10001.0   608369850\n",
       "22101  10017.0   578211300\n",
       "21864  10020.0   515041650"
      ]
     },
     "execution_count": 11,
     "metadata": {},
     "output_type": "execute_result"
    }
   ],
   "source": [
    "mn[mn.AssessTot!=0].sort_values(by ='AssessTot', ascending=False)[['ZipCode','AssessTot']][:10]"
   ]
  },
  {
   "cell_type": "code",
   "execution_count": 12,
   "metadata": {
    "collapsed": false
   },
   "outputs": [
    {
     "data": {
      "text/plain": [
       "5781"
      ]
     },
     "execution_count": 12,
     "metadata": {},
     "output_type": "execute_result"
    }
   ],
   "source": [
    "len(mn[mn.AssessTot<100000])"
   ]
  },
  {
   "cell_type": "code",
   "execution_count": 13,
   "metadata": {
    "collapsed": false
   },
   "outputs": [
    {
     "data": {
      "text/plain": [
       "<matplotlib.axes._subplots.AxesSubplot at 0x1047ce320>"
      ]
     },
     "execution_count": 13,
     "metadata": {},
     "output_type": "execute_result"
    },
    {
     "data": {
      "image/png": "[encoded data removed]",
      "text/plain": [
       "<matplotlib.figure.Figure at 0x10d034c50>"
      ]
     },
     "metadata": {},
     "output_type": "display_data"
    }
   ],
   "source": [
    "sns.distplot(np.log(mn.loc[(mn.AssessTot>10)&(mn.AssessTot>0),'AssessTot']),kde=False)"
   ]
  },
  {
   "cell_type": "code",
   "execution_count": 14,
   "metadata": {
    "collapsed": false
   },
   "outputs": [
    {
     "data": {
      "text/plain": [
       "3302640000"
      ]
     },
     "execution_count": 14,
     "metadata": {},
     "output_type": "execute_result"
    }
   ],
   "source": [
    "mn.AssessTot.max()"
   ]
  },
  {
   "cell_type": "code",
   "execution_count": 69,
   "metadata": {
    "collapsed": false
   },
   "outputs": [
    {
     "data": {
      "text/html": [
       "<div>\n",
       "<table border=\"1\" class=\"dataframe\">\n",
       "  <thead>\n",
       "    <tr style=\"text-align: right;\">\n",
       "      <th></th>\n",
       "      <th>Address</th>\n",
       "      <th>AssessTot</th>\n",
       "      <th>AssessLand</th>\n",
       "      <th>Landmark</th>\n",
       "      <th>UnitsRes</th>\n",
       "      <th>UnitsTotal</th>\n",
       "      <th>BldgArea</th>\n",
       "      <th>ResArea</th>\n",
       "      <th>ComArea</th>\n",
       "      <th>OfficeArea</th>\n",
       "      <th>AreaSource</th>\n",
       "    </tr>\n",
       "  </thead>\n",
       "  <tbody>\n",
       "    <tr>\n",
       "      <th>17285</th>\n",
       "      <td>35 COLUMBUS CIRCLE</td>\n",
       "      <td>906933152</td>\n",
       "      <td>112397619</td>\n",
       "      <td>NaN</td>\n",
       "      <td>229</td>\n",
       "      <td>236</td>\n",
       "      <td>2103828</td>\n",
       "      <td>443729</td>\n",
       "      <td>1446974</td>\n",
       "      <td>781038</td>\n",
       "      <td>2</td>\n",
       "    </tr>\n",
       "    <tr>\n",
       "      <th>16388</th>\n",
       "      <td>1111 AVENUE OF THE AMER</td>\n",
       "      <td>771809400</td>\n",
       "      <td>98915400</td>\n",
       "      <td>HENRY MILLER THEATER</td>\n",
       "      <td>0</td>\n",
       "      <td>1</td>\n",
       "      <td>2245112</td>\n",
       "      <td>0</td>\n",
       "      <td>2245112</td>\n",
       "      <td>2189226</td>\n",
       "      <td>2</td>\n",
       "    </tr>\n",
       "    <tr>\n",
       "      <th>22301</th>\n",
       "      <td>761 5 AVENUE</td>\n",
       "      <td>766783350</td>\n",
       "      <td>106200000</td>\n",
       "      <td>NaN</td>\n",
       "      <td>0</td>\n",
       "      <td>1</td>\n",
       "      <td>1824820</td>\n",
       "      <td>0</td>\n",
       "      <td>1824820</td>\n",
       "      <td>1697062</td>\n",
       "      <td>2</td>\n",
       "    </tr>\n",
       "    <tr>\n",
       "      <th>21862</th>\n",
       "      <td>30 ROCKEFELLER PLAZA</td>\n",
       "      <td>648205652</td>\n",
       "      <td>108408596</td>\n",
       "      <td>ROCKEFELLER CENTER</td>\n",
       "      <td>0</td>\n",
       "      <td>109</td>\n",
       "      <td>2117061</td>\n",
       "      <td>0</td>\n",
       "      <td>2117061</td>\n",
       "      <td>2046035</td>\n",
       "      <td>2</td>\n",
       "    </tr>\n",
       "    <tr>\n",
       "      <th>16347</th>\n",
       "      <td>240 1 AVENUE</td>\n",
       "      <td>612072900</td>\n",
       "      <td>117450000</td>\n",
       "      <td>NaN</td>\n",
       "      <td>8759</td>\n",
       "      <td>8805</td>\n",
       "      <td>8942176</td>\n",
       "      <td>8367942</td>\n",
       "      <td>574234</td>\n",
       "      <td>16820</td>\n",
       "      <td>2</td>\n",
       "    </tr>\n",
       "    <tr>\n",
       "      <th>10619</th>\n",
       "      <td>360 WEST STREET</td>\n",
       "      <td>608369850</td>\n",
       "      <td>239244750</td>\n",
       "      <td>NaN</td>\n",
       "      <td>0</td>\n",
       "      <td>1</td>\n",
       "      <td>3460596</td>\n",
       "      <td>0</td>\n",
       "      <td>3460596</td>\n",
       "      <td>0</td>\n",
       "      <td>2</td>\n",
       "    </tr>\n",
       "    <tr>\n",
       "      <th>22101</th>\n",
       "      <td>200 PARK AVENUE</td>\n",
       "      <td>578211300</td>\n",
       "      <td>94949550</td>\n",
       "      <td>NaN</td>\n",
       "      <td>0</td>\n",
       "      <td>3</td>\n",
       "      <td>2768775</td>\n",
       "      <td>0</td>\n",
       "      <td>2768775</td>\n",
       "      <td>2542235</td>\n",
       "      <td>2</td>\n",
       "    </tr>\n",
       "    <tr>\n",
       "      <th>21864</th>\n",
       "      <td>1260 AVENUE OF THE AMER</td>\n",
       "      <td>515041650</td>\n",
       "      <td>111149100</td>\n",
       "      <td>ROCKEFELLER CENTER</td>\n",
       "      <td>0</td>\n",
       "      <td>603</td>\n",
       "      <td>2734038</td>\n",
       "      <td>0</td>\n",
       "      <td>2734038</td>\n",
       "      <td>1863689</td>\n",
       "      <td>2</td>\n",
       "    </tr>\n",
       "    <tr>\n",
       "      <th>22551</th>\n",
       "      <td>151 EAST 58 STREET</td>\n",
       "      <td>502414205</td>\n",
       "      <td>71999995</td>\n",
       "      <td>NaN</td>\n",
       "      <td>105</td>\n",
       "      <td>109</td>\n",
       "      <td>1100679</td>\n",
       "      <td>244436</td>\n",
       "      <td>856242</td>\n",
       "      <td>696646</td>\n",
       "      <td>2</td>\n",
       "    </tr>\n",
       "    <tr>\n",
       "      <th>16502</th>\n",
       "      <td>120 WEST 55 STREET</td>\n",
       "      <td>489134250</td>\n",
       "      <td>130950000</td>\n",
       "      <td>NaN</td>\n",
       "      <td>0</td>\n",
       "      <td>86</td>\n",
       "      <td>1900241</td>\n",
       "      <td>0</td>\n",
       "      <td>1900241</td>\n",
       "      <td>1790512</td>\n",
       "      <td>2</td>\n",
       "    </tr>\n",
       "  </tbody>\n",
       "</table>\n",
       "</div>"
      ],
      "text/plain": [
       "                       Address  AssessTot  AssessLand              Landmark  \\\n",
       "17285       35 COLUMBUS CIRCLE  906933152   112397619                   NaN   \n",
       "16388  1111 AVENUE OF THE AMER  771809400    98915400  HENRY MILLER THEATER   \n",
       "22301             761 5 AVENUE  766783350   106200000                   NaN   \n",
       "21862     30 ROCKEFELLER PLAZA  648205652   108408596    ROCKEFELLER CENTER   \n",
       "16347             240 1 AVENUE  612072900   117450000                   NaN   \n",
       "10619          360 WEST STREET  608369850   239244750                   NaN   \n",
       "22101          200 PARK AVENUE  578211300    94949550                   NaN   \n",
       "21864  1260 AVENUE OF THE AMER  515041650   111149100    ROCKEFELLER CENTER   \n",
       "22551       151 EAST 58 STREET  502414205    71999995                   NaN   \n",
       "16502       120 WEST 55 STREET  489134250   130950000                   NaN   \n",
       "\n",
       "       UnitsRes  UnitsTotal  BldgArea  ResArea  ComArea  OfficeArea  \\\n",
       "17285       229         236   2103828   443729  1446974      781038   \n",
       "16388         0           1   2245112        0  2245112     2189226   \n",
       "22301         0           1   1824820        0  1824820     1697062   \n",
       "21862         0         109   2117061        0  2117061     2046035   \n",
       "16347      8759        8805   8942176  8367942   574234       16820   \n",
       "10619         0           1   3460596        0  3460596           0   \n",
       "22101         0           3   2768775        0  2768775     2542235   \n",
       "21864         0         603   2734038        0  2734038     1863689   \n",
       "22551       105         109   1100679   244436   856242      696646   \n",
       "16502         0          86   1900241        0  1900241     1790512   \n",
       "\n",
       "       AreaSource  \n",
       "17285           2  \n",
       "16388           2  \n",
       "22301           2  \n",
       "21862           2  \n",
       "16347           2  \n",
       "10619           2  \n",
       "22101           2  \n",
       "21864           2  \n",
       "22551           2  \n",
       "16502           2  "
      ]
     },
     "execution_count": 69,
     "metadata": {},
     "output_type": "execute_result"
    }
   ],
   "source": [
    "mn[(mn.AssessTot!=0) & \n",
    "    (mn.OwnerType!='C') &\n",
    "    (mn.OwnerType!='X') &\n",
    "    (mn.OwnerType!='O') &\n",
    "    (mn.OwnerType!='M')].sort_values(by ='AssessTot', ascending=False)[['Address',\n",
    "                                                                        'AssessTot',\n",
    "                                                                        'AssessLand',\n",
    "                                                                        'Landmark',\n",
    "                                                                        'UnitsRes',\n",
    "                                                                        'UnitsTotal',\n",
    "                                                                        #'OwnerName',\n",
    "                                                                        #'NumBldgs',\n",
    "                                                                        'BldgArea',\n",
    "                                                                        'ResArea',\n",
    "                                                                        'ComArea',\n",
    "                                                                        'OfficeArea',\n",
    "                                                                        'AreaSource']][:10]"
   ]
  },
  {
   "cell_type": "code",
   "execution_count": 16,
   "metadata": {
    "collapsed": false
   },
   "outputs": [
    {
     "data": {
      "text/plain": [
       "13715    357514650\n",
       "Name: AssessTot, dtype: int64"
      ]
     },
     "execution_count": 16,
     "metadata": {},
     "output_type": "execute_result"
    }
   ],
   "source": [
    "mn.loc[mn.Landmark == 'EMPIRE STATE BUILDING','AssessTot']"
   ]
  },
  {
   "cell_type": "code",
   "execution_count": 17,
   "metadata": {
    "collapsed": false
   },
   "outputs": [
    {
     "data": {
      "text/html": [
       "<div>\n",
       "<table border=\"1\" class=\"dataframe\">\n",
       "  <thead>\n",
       "    <tr style=\"text-align: right;\">\n",
       "      <th></th>\n",
       "      <th>Address</th>\n",
       "      <th>AssessTot</th>\n",
       "      <th>UnitsRes</th>\n",
       "      <th>UnitsTotal</th>\n",
       "      <th>OwnerName</th>\n",
       "    </tr>\n",
       "  </thead>\n",
       "  <tbody>\n",
       "    <tr>\n",
       "      <th>13715</th>\n",
       "      <td>338 5 AVENUE</td>\n",
       "      <td>357514650</td>\n",
       "      <td>0</td>\n",
       "      <td>513</td>\n",
       "      <td>ESRT EMPIRE STATE BUI</td>\n",
       "    </tr>\n",
       "  </tbody>\n",
       "</table>\n",
       "</div>"
      ],
      "text/plain": [
       "            Address  AssessTot  UnitsRes  UnitsTotal              OwnerName\n",
       "13715  338 5 AVENUE  357514650         0         513  ESRT EMPIRE STATE BUI"
      ]
     },
     "execution_count": 17,
     "metadata": {},
     "output_type": "execute_result"
    }
   ],
   "source": [
    "mn[mn.Landmark == 'EMPIRE STATE BUILDING'][['Address','AssessTot','UnitsRes','UnitsTotal','OwnerName']]"
   ]
  },
  {
   "cell_type": "code",
   "execution_count": 18,
   "metadata": {
    "collapsed": false
   },
   "outputs": [],
   "source": [
    "#mn.groupby('OwnerName').agg({'Lot':'count','AssessTot':'sum'}).sort_values(by='AssessTot',ascending=False)[:10]"
   ]
  },
  {
   "cell_type": "code",
   "execution_count": 20,
   "metadata": {
    "collapsed": false
   },
   "outputs": [
    {
     "data": {
      "text/plain": [
       "array(['P', 'X', nan, 'C', 'O', 'M'], dtype=object)"
      ]
     },
     "execution_count": 20,
     "metadata": {},
     "output_type": "execute_result"
    }
   ],
   "source": [
    "mn.OwnerType.unique()"
   ]
  },
  {
   "cell_type": "code",
   "execution_count": 32,
   "metadata": {
    "collapsed": false
   },
   "outputs": [
    {
     "data": {
      "text/html": [
       "<div>\n",
       "<table border=\"1\" class=\"dataframe\">\n",
       "  <thead>\n",
       "    <tr style=\"text-align: right;\">\n",
       "      <th></th>\n",
       "      <th>AssessTot</th>\n",
       "      <th>Landmark</th>\n",
       "      <th>OwnerName</th>\n",
       "    </tr>\n",
       "  </thead>\n",
       "  <tbody>\n",
       "    <tr>\n",
       "      <th>12480</th>\n",
       "      <td>397035000</td>\n",
       "      <td>NaN</td>\n",
       "      <td>MSG ARENA, LLC</td>\n",
       "    </tr>\n",
       "    <tr>\n",
       "      <th>16581</th>\n",
       "      <td>346634115</td>\n",
       "      <td>NaN</td>\n",
       "      <td>ECONOMIC DEVELOPMENT</td>\n",
       "    </tr>\n",
       "    <tr>\n",
       "      <th>91</th>\n",
       "      <td>316388250</td>\n",
       "      <td>NaN</td>\n",
       "      <td>GOLDMAN SACHS HEADQUA</td>\n",
       "    </tr>\n",
       "    <tr>\n",
       "      <th>16328</th>\n",
       "      <td>299873248</td>\n",
       "      <td>NaN</td>\n",
       "      <td>NYU HOSPITALS CENTER</td>\n",
       "    </tr>\n",
       "    <tr>\n",
       "      <th>22102</th>\n",
       "      <td>253468350</td>\n",
       "      <td>NaN</td>\n",
       "      <td>UNITED STATES POSTAL</td>\n",
       "    </tr>\n",
       "  </tbody>\n",
       "</table>\n",
       "</div>"
      ],
      "text/plain": [
       "       AssessTot Landmark              OwnerName\n",
       "12480  397035000      NaN         MSG ARENA, LLC\n",
       "16581  346634115      NaN   ECONOMIC DEVELOPMENT\n",
       "91     316388250      NaN  GOLDMAN SACHS HEADQUA\n",
       "16328  299873248      NaN   NYU HOSPITALS CENTER\n",
       "22102  253468350      NaN   UNITED STATES POSTAL"
      ]
     },
     "execution_count": 32,
     "metadata": {},
     "output_type": "execute_result"
    }
   ],
   "source": [
    "mn[mn.OwnerType=='X'].sort_values(by='AssessTot',ascending=False)[['AssessTot','Landmark','OwnerName']].head()"
   ]
  },
  {
   "cell_type": "code",
   "execution_count": 36,
   "metadata": {
    "collapsed": false
   },
   "outputs": [
    {
     "data": {
      "text/plain": [
       "39759"
      ]
     },
     "execution_count": 36,
     "metadata": {},
     "output_type": "execute_result"
    }
   ],
   "source": [
    "len(mn.loc[(mn.OwnerType!='C') & (mn.OwnerType!='X') & (mn.OwnerType!='O') & (mn.OwnerType!='M'), 'AssessTot'])"
   ]
  },
  {
   "cell_type": "code",
   "execution_count": 37,
   "metadata": {
    "collapsed": false
   },
   "outputs": [
    {
     "data": {
      "text/plain": [
       "17"
      ]
     },
     "execution_count": 37,
     "metadata": {},
     "output_type": "execute_result"
    }
   ],
   "source": [
    "len(mn[mn.OwnerType=='M'])"
   ]
  },
  {
   "cell_type": "code",
   "execution_count": 39,
   "metadata": {
    "collapsed": false
   },
   "outputs": [
    {
     "data": {
      "text/html": [
       "<div>\n",
       "<table border=\"1\" class=\"dataframe\">\n",
       "  <thead>\n",
       "    <tr style=\"text-align: right;\">\n",
       "      <th></th>\n",
       "      <th>AssessTot</th>\n",
       "      <th>Address</th>\n",
       "      <th>Landmark</th>\n",
       "      <th>OwnerName</th>\n",
       "    </tr>\n",
       "  </thead>\n",
       "  <tbody>\n",
       "    <tr>\n",
       "      <th>207</th>\n",
       "      <td>1839150</td>\n",
       "      <td>100 OLD SLIP</td>\n",
       "      <td>FIRST PRECINCT POLICE STATION</td>\n",
       "      <td>CULTURAL AFFAIRS</td>\n",
       "    </tr>\n",
       "    <tr>\n",
       "      <th>937</th>\n",
       "      <td>4954950</td>\n",
       "      <td>14 READE STREET</td>\n",
       "      <td>NaN</td>\n",
       "      <td>DCAS</td>\n",
       "    </tr>\n",
       "    <tr>\n",
       "      <th>951</th>\n",
       "      <td>59763150</td>\n",
       "      <td>474 PEARL STREET</td>\n",
       "      <td>NEW YORK COUNTY COURTHOUSE (NEW YOR</td>\n",
       "      <td>NEW YORK CITY (GENERA</td>\n",
       "    </tr>\n",
       "    <tr>\n",
       "      <th>3067</th>\n",
       "      <td>0</td>\n",
       "      <td>145 CLINTON STREET</td>\n",
       "      <td>NaN</td>\n",
       "      <td>HOUSING PRESERVATION</td>\n",
       "    </tr>\n",
       "    <tr>\n",
       "      <th>7737</th>\n",
       "      <td>1096200</td>\n",
       "      <td>35 EAST 4 STREET</td>\n",
       "      <td>NaN</td>\n",
       "      <td>10-12 COOPER SQUAREIN</td>\n",
       "    </tr>\n",
       "    <tr>\n",
       "      <th>9165</th>\n",
       "      <td>98342100</td>\n",
       "      <td>154 CHRISTOPHER STREET</td>\n",
       "      <td>UNITED STATES FEDERAL BUILDING</td>\n",
       "      <td>ARCHIVE PRESERVATIONC</td>\n",
       "    </tr>\n",
       "    <tr>\n",
       "      <th>10587</th>\n",
       "      <td>24936750</td>\n",
       "      <td>MARGINAL STREET</td>\n",
       "      <td>NaN</td>\n",
       "      <td>NYPD</td>\n",
       "    </tr>\n",
       "    <tr>\n",
       "      <th>12372</th>\n",
       "      <td>12697200</td>\n",
       "      <td>210 WEST 27 STREET</td>\n",
       "      <td>NaN</td>\n",
       "      <td>DORMITORY AUTHORITYNY</td>\n",
       "    </tr>\n",
       "    <tr>\n",
       "      <th>18729</th>\n",
       "      <td>70959600</td>\n",
       "      <td>119 AMSTERDAM AVENUE</td>\n",
       "      <td>NaN</td>\n",
       "      <td>LINCOLN CTR PERFORMIN</td>\n",
       "    </tr>\n",
       "    <tr>\n",
       "      <th>18734</th>\n",
       "      <td>13255650</td>\n",
       "      <td>137 AMSTERDAM AVENUE</td>\n",
       "      <td>NaN</td>\n",
       "      <td>MAYFAIR ASSOCIATES</td>\n",
       "    </tr>\n",
       "    <tr>\n",
       "      <th>22096</th>\n",
       "      <td>172208700</td>\n",
       "      <td>109 EAST 42 STREET</td>\n",
       "      <td>NaN</td>\n",
       "      <td>HYATT EQUITIES</td>\n",
       "    </tr>\n",
       "    <tr>\n",
       "      <th>26343</th>\n",
       "      <td>199800</td>\n",
       "      <td>F D R DRIVE</td>\n",
       "      <td>NaN</td>\n",
       "      <td>THE CITY OF NEW YORK/</td>\n",
       "    </tr>\n",
       "    <tr>\n",
       "      <th>32587</th>\n",
       "      <td>260100</td>\n",
       "      <td>171 EAST 122 STREET</td>\n",
       "      <td>NaN</td>\n",
       "      <td>171 EAST 122ND STREET</td>\n",
       "    </tr>\n",
       "    <tr>\n",
       "      <th>35349</th>\n",
       "      <td>31212450</td>\n",
       "      <td>163 WEST 125 STREET</td>\n",
       "      <td>NaN</td>\n",
       "      <td>NYC DSBS</td>\n",
       "    </tr>\n",
       "    <tr>\n",
       "      <th>39391</th>\n",
       "      <td>355050</td>\n",
       "      <td>503 WEST 139 STREET</td>\n",
       "      <td>NaN</td>\n",
       "      <td>STATE LAND UNDER WATE</td>\n",
       "    </tr>\n",
       "    <tr>\n",
       "      <th>42659</th>\n",
       "      <td>9634500</td>\n",
       "      <td>5365 BROADWAY</td>\n",
       "      <td>NaN</td>\n",
       "      <td>NEW YORK CITY HOUSING</td>\n",
       "    </tr>\n",
       "    <tr>\n",
       "      <th>43157</th>\n",
       "      <td>57588300</td>\n",
       "      <td>269 DYCKMAN STREET</td>\n",
       "      <td>NaN</td>\n",
       "      <td>TRUSTEE OF COLUMBIA U</td>\n",
       "    </tr>\n",
       "  </tbody>\n",
       "</table>\n",
       "</div>"
      ],
      "text/plain": [
       "       AssessTot                  Address  \\\n",
       "207      1839150             100 OLD SLIP   \n",
       "937      4954950          14 READE STREET   \n",
       "951     59763150         474 PEARL STREET   \n",
       "3067           0       145 CLINTON STREET   \n",
       "7737     1096200         35 EAST 4 STREET   \n",
       "9165    98342100   154 CHRISTOPHER STREET   \n",
       "10587   24936750          MARGINAL STREET   \n",
       "12372   12697200       210 WEST 27 STREET   \n",
       "18729   70959600     119 AMSTERDAM AVENUE   \n",
       "18734   13255650     137 AMSTERDAM AVENUE   \n",
       "22096  172208700       109 EAST 42 STREET   \n",
       "26343     199800              F D R DRIVE   \n",
       "32587     260100      171 EAST 122 STREET   \n",
       "35349   31212450      163 WEST 125 STREET   \n",
       "39391     355050      503 WEST 139 STREET   \n",
       "42659    9634500            5365 BROADWAY   \n",
       "43157   57588300       269 DYCKMAN STREET   \n",
       "\n",
       "                                  Landmark              OwnerName  \n",
       "207          FIRST PRECINCT POLICE STATION       CULTURAL AFFAIRS  \n",
       "937                                    NaN                   DCAS  \n",
       "951    NEW YORK COUNTY COURTHOUSE (NEW YOR  NEW YORK CITY (GENERA  \n",
       "3067                                   NaN   HOUSING PRESERVATION  \n",
       "7737                                   NaN  10-12 COOPER SQUAREIN  \n",
       "9165        UNITED STATES FEDERAL BUILDING  ARCHIVE PRESERVATIONC  \n",
       "10587                                  NaN                   NYPD  \n",
       "12372                                  NaN  DORMITORY AUTHORITYNY  \n",
       "18729                                  NaN  LINCOLN CTR PERFORMIN  \n",
       "18734                                  NaN     MAYFAIR ASSOCIATES  \n",
       "22096                                  NaN         HYATT EQUITIES  \n",
       "26343                                  NaN  THE CITY OF NEW YORK/  \n",
       "32587                                  NaN  171 EAST 122ND STREET  \n",
       "35349                                  NaN               NYC DSBS  \n",
       "39391                                  NaN  STATE LAND UNDER WATE  \n",
       "42659                                  NaN  NEW YORK CITY HOUSING  \n",
       "43157                                  NaN  TRUSTEE OF COLUMBIA U  "
      ]
     },
     "execution_count": 39,
     "metadata": {},
     "output_type": "execute_result"
    }
   ],
   "source": [
    "mn[mn.OwnerType=='M'][['AssessTot','Address','Landmark','OwnerName']]"
   ]
  },
  {
   "cell_type": "code",
   "execution_count": 42,
   "metadata": {
    "collapsed": false
   },
   "outputs": [
    {
     "data": {
      "text/plain": [
       "528"
      ]
     },
     "execution_count": 42,
     "metadata": {},
     "output_type": "execute_result"
    }
   ],
   "source": [
    "len(mn[mn.AssessTot==0])"
   ]
  },
  {
   "cell_type": "code",
   "execution_count": 47,
   "metadata": {
    "collapsed": false
   },
   "outputs": [
    {
     "data": {
      "text/html": [
       "<div>\n",
       "<table border=\"1\" class=\"dataframe\">\n",
       "  <thead>\n",
       "    <tr style=\"text-align: right;\">\n",
       "      <th></th>\n",
       "      <th>Address</th>\n",
       "      <th>Landmark</th>\n",
       "      <th>OwnerName</th>\n",
       "    </tr>\n",
       "  </thead>\n",
       "  <tbody>\n",
       "    <tr>\n",
       "      <th>3</th>\n",
       "      <td>JOE DIMAGGIO HIGHWAY</td>\n",
       "      <td>NaN</td>\n",
       "      <td>NaN</td>\n",
       "    </tr>\n",
       "    <tr>\n",
       "      <th>4</th>\n",
       "      <td>JOE DIMAGGIO HIGHWAY</td>\n",
       "      <td>NaN</td>\n",
       "      <td>NaN</td>\n",
       "    </tr>\n",
       "    <tr>\n",
       "      <th>12</th>\n",
       "      <td>NaN</td>\n",
       "      <td>NaN</td>\n",
       "      <td>NaN</td>\n",
       "    </tr>\n",
       "    <tr>\n",
       "      <th>30</th>\n",
       "      <td>102 BROAD STREET</td>\n",
       "      <td>NaN</td>\n",
       "      <td>VERIZON NEW YORK INC</td>\n",
       "    </tr>\n",
       "    <tr>\n",
       "      <th>56</th>\n",
       "      <td>NaN</td>\n",
       "      <td>NaN</td>\n",
       "      <td>NaN</td>\n",
       "    </tr>\n",
       "  </tbody>\n",
       "</table>\n",
       "</div>"
      ],
      "text/plain": [
       "                         Address Landmark             OwnerName\n",
       "3           JOE DIMAGGIO HIGHWAY      NaN                   NaN\n",
       "4           JOE DIMAGGIO HIGHWAY      NaN                   NaN\n",
       "12                           NaN      NaN                   NaN\n",
       "30              102 BROAD STREET      NaN  VERIZON NEW YORK INC\n",
       "56                           NaN      NaN                   NaN"
      ]
     },
     "execution_count": 47,
     "metadata": {},
     "output_type": "execute_result"
    }
   ],
   "source": [
    "#googling a few, it seems like these are all properties under development\n",
    "mn[mn.AssessTot==0][['Address','Landmark','OwnerName']].head()"
   ]
  },
  {
   "cell_type": "code",
   "execution_count": 58,
   "metadata": {
    "collapsed": false
   },
   "outputs": [
    {
     "data": {
      "text/plain": [
       "136"
      ]
     },
     "execution_count": 58,
     "metadata": {},
     "output_type": "execute_result"
    }
   ],
   "source": [
    "len(mn[(mn.AssessTot!=0) & (mn.AssessTot<50000) & (mn.AssessTot<10000)][['AssessTot','Address','Landmark','OwnerName']])"
   ]
  },
  {
   "cell_type": "code",
   "execution_count": 3,
   "metadata": {
    "collapsed": false
   },
   "outputs": [],
   "source": [
    "ds_mn = mn[(mn.AssessTot!=0) & \n",
    "    #(mn.OwnerType!='C') &\n",
    "    #(mn.OwnerType!='X') &\n",
    "    #(mn.OwnerType!='O') &\n",
    "    #(mn.OwnerType!='M') &\n",
    "    (mn.BldgArea>100) &\n",
    "    (mn.ResArea>100) &\n",
    "    (mn.XCoord>0) & \n",
    "    (mn.YCoord>0)].sort_values(by ='AssessTot', ascending=False)[['Address',\n",
    "                                                                    'AssessTot',\n",
    "                                                                    'ZipCode',\n",
    "                                                                    'XCoord',\n",
    "                                                                    'YCoord',\n",
    "                                                                    #'AssessLand',\n",
    "                                                                    #'Landmark',\n",
    "                                                                    'UnitsRes',\n",
    "                                                                    'UnitsTotal',\n",
    "                                                                    #'OwnerName',\n",
    "                                                                    #'NumBldgs',\n",
    "                                                                    'BldgArea',\n",
    "                                                                    'ResArea',\n",
    "                                                                    'AreaSource',\n",
    "                                                                     'LotArea']].reset_index().drop(['index'],axis=1)#,\n",
    "                                                                    #'ComArea',\n",
    "                                                                    #'OfficeArea',\n",
    "                                                                    #'AreaSource']]"
   ]
  },
  {
   "cell_type": "code",
   "execution_count": 4,
   "metadata": {
    "collapsed": false
   },
   "outputs": [],
   "source": [
    "ds_mn['VPA_tot'] = round(ds_mn.AssessTot.astype(float) / ds_mn.BldgArea.astype(float) ,2)"
   ]
  },
  {
   "cell_type": "code",
   "execution_count": 5,
   "metadata": {
    "collapsed": true
   },
   "outputs": [],
   "source": [
    "ds_mn['VPA_res'] = round(ds_mn.AssessTot.astype(float) / ds_mn.ResArea.astype(float) ,2)"
   ]
  },
  {
   "cell_type": "code",
   "execution_count": 6,
   "metadata": {
    "collapsed": true
   },
   "outputs": [],
   "source": [
    "ds_mn['VPA_lot'] = round(ds_mn.AssessTot.astype(float) / ds_mn.LotArea.astype(float) ,2)"
   ]
  },
  {
   "cell_type": "code",
   "execution_count": 7,
   "metadata": {
    "collapsed": false
   },
   "outputs": [
    {
     "data": {
      "text/html": [
       "<div>\n",
       "<table border=\"1\" class=\"dataframe\">\n",
       "  <thead>\n",
       "    <tr style=\"text-align: right;\">\n",
       "      <th></th>\n",
       "      <th>Address</th>\n",
       "      <th>AssessTot</th>\n",
       "      <th>ZipCode</th>\n",
       "      <th>XCoord</th>\n",
       "      <th>YCoord</th>\n",
       "      <th>UnitsRes</th>\n",
       "      <th>UnitsTotal</th>\n",
       "      <th>BldgArea</th>\n",
       "      <th>ResArea</th>\n",
       "      <th>AreaSource</th>\n",
       "      <th>LotArea</th>\n",
       "      <th>VPA_tot</th>\n",
       "      <th>VPA_res</th>\n",
       "      <th>VPA_lot</th>\n",
       "    </tr>\n",
       "  </thead>\n",
       "  <tbody>\n",
       "    <tr>\n",
       "      <th>716</th>\n",
       "      <td>124 AVENUE OF THE AMER</td>\n",
       "      <td>23465917</td>\n",
       "      <td>10013.0</td>\n",
       "      <td>983178.0</td>\n",
       "      <td>203423.0</td>\n",
       "      <td>1</td>\n",
       "      <td>1</td>\n",
       "      <td>4607</td>\n",
       "      <td>4607</td>\n",
       "      <td>2</td>\n",
       "      <td>2286</td>\n",
       "      <td>5093.54</td>\n",
       "      <td>5093.54</td>\n",
       "      <td>10265.06</td>\n",
       "    </tr>\n",
       "    <tr>\n",
       "      <th>6</th>\n",
       "      <td>721 5 AVENUE</td>\n",
       "      <td>189444628</td>\n",
       "      <td>10022.0</td>\n",
       "      <td>991482.0</td>\n",
       "      <td>217008.0</td>\n",
       "      <td>235</td>\n",
       "      <td>236</td>\n",
       "      <td>628076</td>\n",
       "      <td>368490</td>\n",
       "      <td>2</td>\n",
       "      <td>19450</td>\n",
       "      <td>301.63</td>\n",
       "      <td>514.11</td>\n",
       "      <td>9740.08</td>\n",
       "    </tr>\n",
       "    <tr>\n",
       "      <th>45</th>\n",
       "      <td>50 CENTRAL PARK SOUTH</td>\n",
       "      <td>96131251</td>\n",
       "      <td>10019.0</td>\n",
       "      <td>990887.0</td>\n",
       "      <td>218078.0</td>\n",
       "      <td>12</td>\n",
       "      <td>14</td>\n",
       "      <td>324293</td>\n",
       "      <td>80457</td>\n",
       "      <td>2</td>\n",
       "      <td>12050</td>\n",
       "      <td>296.43</td>\n",
       "      <td>1194.82</td>\n",
       "      <td>7977.70</td>\n",
       "    </tr>\n",
       "    <tr>\n",
       "      <th>1747</th>\n",
       "      <td>21 EAST 66 STREET</td>\n",
       "      <td>10776148</td>\n",
       "      <td>10065.0</td>\n",
       "      <td>993012.0</td>\n",
       "      <td>219159.0</td>\n",
       "      <td>19</td>\n",
       "      <td>22</td>\n",
       "      <td>48247</td>\n",
       "      <td>38845</td>\n",
       "      <td>2</td>\n",
       "      <td>1404</td>\n",
       "      <td>223.35</td>\n",
       "      <td>277.41</td>\n",
       "      <td>7675.32</td>\n",
       "    </tr>\n",
       "    <tr>\n",
       "      <th>10</th>\n",
       "      <td>157 WEST 57 STREET</td>\n",
       "      <td>180005408</td>\n",
       "      <td>10019.0</td>\n",
       "      <td>990067.0</td>\n",
       "      <td>218170.0</td>\n",
       "      <td>132</td>\n",
       "      <td>134</td>\n",
       "      <td>702619</td>\n",
       "      <td>410464</td>\n",
       "      <td>2</td>\n",
       "      <td>23808</td>\n",
       "      <td>256.19</td>\n",
       "      <td>438.54</td>\n",
       "      <td>7560.71</td>\n",
       "    </tr>\n",
       "  </tbody>\n",
       "</table>\n",
       "</div>"
      ],
      "text/plain": [
       "                     Address  AssessTot  ZipCode    XCoord    YCoord  \\\n",
       "716   124 AVENUE OF THE AMER   23465917  10013.0  983178.0  203423.0   \n",
       "6               721 5 AVENUE  189444628  10022.0  991482.0  217008.0   \n",
       "45     50 CENTRAL PARK SOUTH   96131251  10019.0  990887.0  218078.0   \n",
       "1747       21 EAST 66 STREET   10776148  10065.0  993012.0  219159.0   \n",
       "10        157 WEST 57 STREET  180005408  10019.0  990067.0  218170.0   \n",
       "\n",
       "      UnitsRes  UnitsTotal  BldgArea  ResArea  AreaSource  LotArea  VPA_tot  \\\n",
       "716          1           1      4607     4607           2     2286  5093.54   \n",
       "6          235         236    628076   368490           2    19450   301.63   \n",
       "45          12          14    324293    80457           2    12050   296.43   \n",
       "1747        19          22     48247    38845           2     1404   223.35   \n",
       "10         132         134    702619   410464           2    23808   256.19   \n",
       "\n",
       "      VPA_res   VPA_lot  \n",
       "716   5093.54  10265.06  \n",
       "6      514.11   9740.08  \n",
       "45    1194.82   7977.70  \n",
       "1747   277.41   7675.32  \n",
       "10     438.54   7560.71  "
      ]
     },
     "execution_count": 7,
     "metadata": {},
     "output_type": "execute_result"
    }
   ],
   "source": [
    "ds_mn.sort_values(by='VPA_lot', ascending=False).head()"
   ]
  },
  {
   "cell_type": "code",
   "execution_count": 8,
   "metadata": {
    "collapsed": false
   },
   "outputs": [
    {
     "name": "stdout",
     "output_type": "stream",
     "text": [
      "30527.0\n",
      "1009741.0\n",
      "63819.0\n",
      "259194.0\n"
     ]
    }
   ],
   "source": [
    "print(ds_mn.XCoord.max() - ds_mn.XCoord.min())\n",
    "print(ds_mn.XCoord.max())\n",
    "print(ds_mn.YCoord.max() - ds_mn.YCoord.min())\n",
    "print(ds_mn.YCoord.max())"
   ]
  },
  {
   "cell_type": "code",
   "execution_count": 9,
   "metadata": {
    "collapsed": false
   },
   "outputs": [],
   "source": [
    "new_mn = ds_mn.groupby([pd.cut(ds_mn.YCoord,150),pd.cut(ds_mn.XCoord,150)]).agg({\n",
    "        'VPA_res':'mean',\n",
    "        'VPA_tot':'median',\n",
    "        'VPA_lot':'mean',\n",
    "        'AssessTot':'mean'}).reset_index()"
   ]
  },
  {
   "cell_type": "code",
   "execution_count": 10,
   "metadata": {
    "collapsed": false
   },
   "outputs": [
    {
     "data": {
      "text/plain": [
       "count    4155.000000\n",
       "mean       74.481255\n",
       "std        52.123042\n",
       "min         3.200000\n",
       "25%        36.020000\n",
       "50%        73.450000\n",
       "75%       100.575000\n",
       "max      1678.840000\n",
       "Name: VPA_tot, dtype: float64"
      ]
     },
     "execution_count": 10,
     "metadata": {},
     "output_type": "execute_result"
    }
   ],
   "source": [
    "new_mn.VPA_tot.describe()"
   ]
  },
  {
   "cell_type": "code",
   "execution_count": 11,
   "metadata": {
    "collapsed": true
   },
   "outputs": [],
   "source": [
    "from matplotlib import rcParams"
   ]
  },
  {
   "cell_type": "code",
   "execution_count": 12,
   "metadata": {
    "collapsed": false
   },
   "outputs": [
    {
     "data": {
      "image/png": "[encoded data removed]",
      "text/plain": [
       "<matplotlib.figure.Figure at 0x10b606940>"
      ]
     },
     "metadata": {},
     "output_type": "display_data"
    }
   ],
   "source": [
    "rcParams['figure.figsize'] = (16,14)\n",
    "\n",
    "exp = new_mn.pivot(index='YCoord', columns='XCoord', values='VPA_tot').iloc[::-1]\n",
    "g = sns.heatmap(exp, cmap='YlOrRd', vmin=0, vmax=200)\n",
    "g.axes.get_yaxis().set_visible(False)\n",
    "g.axes.get_xaxis().set_visible(False)\n",
    "#g.patch.set_facecolor('white')"
   ]
  }
 ],
 "metadata": {
  "kernelspec": {
   "display_name": "Python 2",
   "language": "python",
   "name": "python2"
  },
  "language_info": {
   "codemirror_mode": {
    "name": "ipython",
    "version": 2
   },
   "file_extension": ".py",
   "mimetype": "text/x-python",
   "name": "python",
   "nbconvert_exporter": "python",
   "pygments_lexer": "ipython2",
   "version": "2.7.11"
  }
 },
 "nbformat": 4,
 "nbformat_minor": 1
}
