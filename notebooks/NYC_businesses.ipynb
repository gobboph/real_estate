{
 "cells": [
  {
   "cell_type": "code",
   "execution_count": null,
   "metadata": {
    "collapsed": true
   },
   "outputs": [],
   "source": [
    "%matplotlib inline\n",
    "import pandas as pd\n",
    "import csv as csv\n",
    "import numpy as np\n",
    "from matplotlib import pyplot as plt\n",
    "import seaborn as sns\n",
    "#from sklearn import datasets, linear_model\n",
    "import matplotlib\n",
    "import matplotlib.pylab as pl\n",
    "#from matplotlib import rcParams\n",
    "#from mpl_toolkits.basemap import Basemap\n",
    "#import sqlite3"
   ]
  },
  {
   "cell_type": "code",
   "execution_count": 3,
   "metadata": {
    "collapsed": false
   },
   "outputs": [],
   "source": [
    "ds = pd.read_csv('../data/Legally_Operating_Businesses.csv', header=0)"
   ]
  },
  {
   "cell_type": "code",
   "execution_count": 3,
   "metadata": {
    "collapsed": false
   },
   "outputs": [
    {
     "data": {
      "text/html": [
       "<div>\n",
       "<table border=\"1\" class=\"dataframe\">\n",
       "  <thead>\n",
       "    <tr style=\"text-align: right;\">\n",
       "      <th></th>\n",
       "      <th>DCA License Number</th>\n",
       "      <th>License Type</th>\n",
       "      <th>License Expiration Date</th>\n",
       "      <th>License Category</th>\n",
       "      <th>Business Name</th>\n",
       "      <th>Business Name 2</th>\n",
       "      <th>Address Building</th>\n",
       "      <th>Address Street Name</th>\n",
       "      <th>Secondary Address Street Name</th>\n",
       "      <th>Address City</th>\n",
       "      <th>Address State</th>\n",
       "      <th>Address ZIP</th>\n",
       "      <th>Contact Phone Number</th>\n",
       "      <th>Address Borough</th>\n",
       "      <th>Detail</th>\n",
       "      <th>Longitude</th>\n",
       "      <th>Latitude</th>\n",
       "    </tr>\n",
       "  </thead>\n",
       "  <tbody>\n",
       "    <tr>\n",
       "      <th>0</th>\n",
       "      <td>1419313-DCA</td>\n",
       "      <td>Business</td>\n",
       "      <td>02/28/2017</td>\n",
       "      <td>Home Improvement Contractor</td>\n",
       "      <td>PMA CONSTRUCTION LLC</td>\n",
       "      <td>NaN</td>\n",
       "      <td>7960</td>\n",
       "      <td>68TH RD</td>\n",
       "      <td>NaN</td>\n",
       "      <td>MIDDLE VLG</td>\n",
       "      <td>NY</td>\n",
       "      <td>11379</td>\n",
       "      <td>3474462989</td>\n",
       "      <td>Queens</td>\n",
       "      <td>NaN</td>\n",
       "      <td>NaN</td>\n",
       "      <td>NaN</td>\n",
       "    </tr>\n",
       "    <tr>\n",
       "      <th>1</th>\n",
       "      <td>1438619-DCA</td>\n",
       "      <td>Business</td>\n",
       "      <td>02/28/2017</td>\n",
       "      <td>Home Improvement Contractor</td>\n",
       "      <td>BO CONSTRUCTION GROUP INC.</td>\n",
       "      <td>NaN</td>\n",
       "      <td>3907</td>\n",
       "      <td>PRINCE STREET #3B</td>\n",
       "      <td>NaN</td>\n",
       "      <td>FLUSHING</td>\n",
       "      <td>NY</td>\n",
       "      <td>11354</td>\n",
       "      <td>7186612826</td>\n",
       "      <td>Queens</td>\n",
       "      <td>NaN</td>\n",
       "      <td>NaN</td>\n",
       "      <td>NaN</td>\n",
       "    </tr>\n",
       "    <tr>\n",
       "      <th>2</th>\n",
       "      <td>2015403-DCA</td>\n",
       "      <td>Individual</td>\n",
       "      <td>02/28/2017</td>\n",
       "      <td>Home Improvement Salesperson</td>\n",
       "      <td>ZWICK, ALEXANDER</td>\n",
       "      <td>NaN</td>\n",
       "      <td>2501</td>\n",
       "      <td>SEAPORT DR</td>\n",
       "      <td>NaN</td>\n",
       "      <td>CHESTER</td>\n",
       "      <td>PA</td>\n",
       "      <td>19013</td>\n",
       "      <td>9175135069</td>\n",
       "      <td>NaN</td>\n",
       "      <td>NaN</td>\n",
       "      <td>NaN</td>\n",
       "      <td>NaN</td>\n",
       "    </tr>\n",
       "    <tr>\n",
       "      <th>3</th>\n",
       "      <td>2039466-1-DCA</td>\n",
       "      <td>Business</td>\n",
       "      <td>12/31/2017</td>\n",
       "      <td>Cigarette Retail Dealer</td>\n",
       "      <td>EVERGREEN DELI AND GROCERY CORP</td>\n",
       "      <td>NaN</td>\n",
       "      <td>455</td>\n",
       "      <td>EVERGREEN AVE</td>\n",
       "      <td>NaN</td>\n",
       "      <td>BROOKLYN</td>\n",
       "      <td>NY</td>\n",
       "      <td>11221</td>\n",
       "      <td>9178634353</td>\n",
       "      <td>Brooklyn</td>\n",
       "      <td>NaN</td>\n",
       "      <td>NaN</td>\n",
       "      <td>NaN</td>\n",
       "    </tr>\n",
       "    <tr>\n",
       "      <th>4</th>\n",
       "      <td>1264825-DCA</td>\n",
       "      <td>Business</td>\n",
       "      <td>02/28/2017</td>\n",
       "      <td>Home Improvement Contractor</td>\n",
       "      <td>ALAM, MOHAMMED N</td>\n",
       "      <td>M.N.A. CONSTRUCTION</td>\n",
       "      <td>224</td>\n",
       "      <td>QUINCY ST</td>\n",
       "      <td>NaN</td>\n",
       "      <td>BROOKLYN</td>\n",
       "      <td>NY</td>\n",
       "      <td>11216</td>\n",
       "      <td>7183630011</td>\n",
       "      <td>Brooklyn</td>\n",
       "      <td>NaN</td>\n",
       "      <td>NaN</td>\n",
       "      <td>NaN</td>\n",
       "    </tr>\n",
       "  </tbody>\n",
       "</table>\n",
       "</div>"
      ],
      "text/plain": [
       "  DCA License Number License Type License Expiration Date  \\\n",
       "0        1419313-DCA     Business              02/28/2017   \n",
       "1        1438619-DCA     Business              02/28/2017   \n",
       "2        2015403-DCA   Individual              02/28/2017   \n",
       "3      2039466-1-DCA     Business              12/31/2017   \n",
       "4        1264825-DCA     Business              02/28/2017   \n",
       "\n",
       "               License Category                    Business Name  \\\n",
       "0   Home Improvement Contractor             PMA CONSTRUCTION LLC   \n",
       "1   Home Improvement Contractor       BO CONSTRUCTION GROUP INC.   \n",
       "2  Home Improvement Salesperson                 ZWICK, ALEXANDER   \n",
       "3       Cigarette Retail Dealer  EVERGREEN DELI AND GROCERY CORP   \n",
       "4   Home Improvement Contractor                 ALAM, MOHAMMED N   \n",
       "\n",
       "       Business Name 2 Address Building Address Street Name  \\\n",
       "0                  NaN             7960             68TH RD   \n",
       "1                  NaN             3907   PRINCE STREET #3B   \n",
       "2                  NaN             2501          SEAPORT DR   \n",
       "3                  NaN              455       EVERGREEN AVE   \n",
       "4  M.N.A. CONSTRUCTION              224           QUINCY ST   \n",
       "\n",
       "  Secondary Address Street Name Address City Address State Address ZIP  \\\n",
       "0                           NaN   MIDDLE VLG            NY       11379   \n",
       "1                           NaN     FLUSHING            NY       11354   \n",
       "2                           NaN      CHESTER            PA       19013   \n",
       "3                           NaN     BROOKLYN            NY       11221   \n",
       "4                           NaN     BROOKLYN            NY       11216   \n",
       "\n",
       "  Contact Phone Number Address Borough Detail  Longitude  Latitude  \n",
       "0           3474462989          Queens    NaN        NaN       NaN  \n",
       "1           7186612826          Queens    NaN        NaN       NaN  \n",
       "2           9175135069             NaN    NaN        NaN       NaN  \n",
       "3           9178634353        Brooklyn    NaN        NaN       NaN  \n",
       "4           7183630011        Brooklyn    NaN        NaN       NaN  "
      ]
     },
     "execution_count": 3,
     "metadata": {},
     "output_type": "execute_result"
    }
   ],
   "source": [
    "ds.head()"
   ]
  },
  {
   "cell_type": "code",
   "execution_count": 4,
   "metadata": {
    "collapsed": false
   },
   "outputs": [
    {
     "data": {
      "text/plain": [
       "Index(['DCA License Number', 'License Type', 'License Expiration Date',\n",
       "       'License Category', 'Business Name', 'Business Name 2',\n",
       "       'Address Building', 'Address Street Name',\n",
       "       'Secondary Address Street Name', 'Address City', 'Address State',\n",
       "       'Address ZIP', 'Contact Phone Number', 'Address Borough', 'Detail',\n",
       "       'Longitude', 'Latitude'],\n",
       "      dtype='object')"
      ]
     },
     "execution_count": 4,
     "metadata": {},
     "output_type": "execute_result"
    }
   ],
   "source": [
    "ds.columns"
   ]
  },
  {
   "cell_type": "code",
   "execution_count": 5,
   "metadata": {
    "collapsed": false
   },
   "outputs": [
    {
     "data": {
      "text/plain": [
       "85"
      ]
     },
     "execution_count": 5,
     "metadata": {},
     "output_type": "execute_result"
    }
   ],
   "source": [
    "len(ds[ds['Address ZIP'] != ds['Address ZIP']])"
   ]
  },
  {
   "cell_type": "code",
   "execution_count": 6,
   "metadata": {
    "collapsed": false
   },
   "outputs": [
    {
     "data": {
      "text/plain": [
       "0"
      ]
     },
     "execution_count": 6,
     "metadata": {},
     "output_type": "execute_result"
    }
   ],
   "source": [
    "ds['Address ZIP'] = ds['Address ZIP'].fillna('nan')\n",
    "len(ds[ds['Address ZIP'] != ds['Address ZIP']])"
   ]
  },
  {
   "cell_type": "code",
   "execution_count": 7,
   "metadata": {
    "collapsed": false
   },
   "outputs": [],
   "source": [
    "zips = list(ds['Address ZIP'])"
   ]
  },
  {
   "cell_type": "code",
   "execution_count": 8,
   "metadata": {
    "collapsed": false
   },
   "outputs": [
    {
     "data": {
      "text/plain": [
       "['11379',\n",
       " '11354',\n",
       " '19013',\n",
       " '11221',\n",
       " '11216',\n",
       " '11208',\n",
       " '10002',\n",
       " '10305',\n",
       " '11226',\n",
       " '11706']"
      ]
     },
     "execution_count": 8,
     "metadata": {},
     "output_type": "execute_result"
    }
   ],
   "source": [
    "zips[:10]"
   ]
  },
  {
   "cell_type": "code",
   "execution_count": 9,
   "metadata": {
    "collapsed": false
   },
   "outputs": [],
   "source": [
    "wrong_zips_ix = [i for i in range(len(zips)) if len([x for x in list(zips[i]) if x in [str(x) for x in range(0,10)]])<5]"
   ]
  },
  {
   "cell_type": "code",
   "execution_count": 10,
   "metadata": {
    "collapsed": false
   },
   "outputs": [
    {
     "data": {
      "text/plain": [
       "132"
      ]
     },
     "execution_count": 10,
     "metadata": {},
     "output_type": "execute_result"
    }
   ],
   "source": [
    "len(wrong_zips_ix)"
   ]
  },
  {
   "cell_type": "code",
   "execution_count": 11,
   "metadata": {
    "collapsed": false
   },
   "outputs": [],
   "source": [
    "#[ds['Address ZIP'][x] for x in wrong_zips_ix]"
   ]
  },
  {
   "cell_type": "code",
   "execution_count": 11,
   "metadata": {
    "collapsed": false
   },
   "outputs": [
    {
     "data": {
      "text/plain": [
       "RangeIndex(start=0, stop=77795, step=1)"
      ]
     },
     "execution_count": 11,
     "metadata": {},
     "output_type": "execute_result"
    }
   ],
   "source": [
    "ds.index"
   ]
  },
  {
   "cell_type": "code",
   "execution_count": 12,
   "metadata": {
    "collapsed": false
   },
   "outputs": [],
   "source": [
    "ds = ds.drop(ds.index[wrong_zips_ix]).reindex()"
   ]
  },
  {
   "cell_type": "code",
   "execution_count": 13,
   "metadata": {
    "collapsed": false
   },
   "outputs": [
    {
     "data": {
      "text/plain": [
       "77663"
      ]
     },
     "execution_count": 13,
     "metadata": {},
     "output_type": "execute_result"
    }
   ],
   "source": [
    "len(ds)"
   ]
  },
  {
   "cell_type": "code",
   "execution_count": 14,
   "metadata": {
    "collapsed": false
   },
   "outputs": [],
   "source": [
    "ds = ds[ds['Address State']=='NY']"
   ]
  },
  {
   "cell_type": "code",
   "execution_count": 15,
   "metadata": {
    "collapsed": false
   },
   "outputs": [
    {
     "data": {
      "text/plain": [
       "array(['Queens', 'Brooklyn', nan, 'Manhattan', 'Outside NYC', 'Bronx',\n",
       "       'Staten Island', 'MANHATTAN', 'QUEENS'], dtype=object)"
      ]
     },
     "execution_count": 15,
     "metadata": {},
     "output_type": "execute_result"
    }
   ],
   "source": [
    "ds['Address Borough'].unique()"
   ]
  },
  {
   "cell_type": "code",
   "execution_count": 16,
   "metadata": {
    "collapsed": false
   },
   "outputs": [],
   "source": [
    "ds['Address Borough'] = ds['Address Borough'].fillna('nan').apply(lambda x: x.lower())"
   ]
  },
  {
   "cell_type": "code",
   "execution_count": 17,
   "metadata": {
    "collapsed": false
   },
   "outputs": [
    {
     "data": {
      "text/plain": [
       "array(['queens', 'brooklyn', 'nan', 'manhattan', 'outside nyc', 'bronx',\n",
       "       'staten island'], dtype=object)"
      ]
     },
     "execution_count": 17,
     "metadata": {},
     "output_type": "execute_result"
    }
   ],
   "source": [
    "ds['Address Borough'].unique()"
   ]
  },
  {
   "cell_type": "code",
   "execution_count": 18,
   "metadata": {
    "collapsed": true
   },
   "outputs": [],
   "source": [
    "ds = ds[ds['Address Borough']!='nan']"
   ]
  },
  {
   "cell_type": "code",
   "execution_count": 19,
   "metadata": {
    "collapsed": false
   },
   "outputs": [
    {
     "data": {
      "text/html": [
       "<div>\n",
       "<table border=\"1\" class=\"dataframe\">\n",
       "  <thead>\n",
       "    <tr style=\"text-align: right;\">\n",
       "      <th></th>\n",
       "      <th>Address Borough</th>\n",
       "    </tr>\n",
       "    <tr>\n",
       "      <th>Address Borough</th>\n",
       "      <th></th>\n",
       "    </tr>\n",
       "  </thead>\n",
       "  <tbody>\n",
       "    <tr>\n",
       "      <th>bronx</th>\n",
       "      <td>6101</td>\n",
       "    </tr>\n",
       "    <tr>\n",
       "      <th>brooklyn</th>\n",
       "      <td>12825</td>\n",
       "    </tr>\n",
       "    <tr>\n",
       "      <th>manhattan</th>\n",
       "      <td>10872</td>\n",
       "    </tr>\n",
       "    <tr>\n",
       "      <th>outside nyc</th>\n",
       "      <td>3308</td>\n",
       "    </tr>\n",
       "    <tr>\n",
       "      <th>queens</th>\n",
       "      <td>12335</td>\n",
       "    </tr>\n",
       "    <tr>\n",
       "      <th>staten island</th>\n",
       "      <td>2840</td>\n",
       "    </tr>\n",
       "  </tbody>\n",
       "</table>\n",
       "</div>"
      ],
      "text/plain": [
       "                 Address Borough\n",
       "Address Borough                 \n",
       "bronx                       6101\n",
       "brooklyn                   12825\n",
       "manhattan                  10872\n",
       "outside nyc                 3308\n",
       "queens                     12335\n",
       "staten island               2840"
      ]
     },
     "execution_count": 19,
     "metadata": {},
     "output_type": "execute_result"
    }
   ],
   "source": [
    "ds.groupby('Address Borough').agg({'Address Borough':'count'})"
   ]
  },
  {
   "cell_type": "code",
   "execution_count": 20,
   "metadata": {
    "collapsed": false
   },
   "outputs": [
    {
     "data": {
      "text/plain": [
       "array(['Home Improvement Contractor', 'Cigarette Retail Dealer',\n",
       "       'Secondhand Dealer - General', 'Stoop Line Stand',\n",
       "       'Dealer In Products', 'Electronics Store', 'Debt Collection Agency',\n",
       "       'Cabaret', 'Laundry Jobber', 'Sidewalk Cafe',\n",
       "       'Amusement Device Portable', 'Laundry', 'Horse Drawn Cab Owner',\n",
       "       'Garage', 'Newsstand', 'Electronic & Appliance Service',\n",
       "       'Storage Warehouse', 'Secondhand Dealer - Auto',\n",
       "       'Employment Agency', 'Tow Truck Company', 'Pool or Billiard Room',\n",
       "       'Parking Lot', 'Games of Chance', 'Catering Establishment',\n",
       "       'Pawnbroker', 'Process Serving Agency', 'Pedicab Business',\n",
       "       'Home Improvement Salesperson', 'Garage and Parking Lot',\n",
       "       'Gaming Cafe', 'General Vendor', 'Scale Dealer Repairer',\n",
       "       'Scrap Metal Processor', 'Amusement Device Permanent',\n",
       "       'Amusement Arcade', 'Bingo Game Operator', 'Auction House Premises',\n",
       "       'Sightseeing Bus', 'Tow Truck Exemption',\n",
       "       'Secondhand Dealer - Firearms', 'Pedicab Driver', 'Special Sale',\n",
       "       'Tow Truck Driver', 'Commercial Lessor',\n",
       "       'Amusement Device Temporary', 'Booting Company',\n",
       "       'General Vendor Distributor', 'Ticket Seller',\n",
       "       'Process Server Individual'], dtype=object)"
      ]
     },
     "execution_count": 20,
     "metadata": {},
     "output_type": "execute_result"
    }
   ],
   "source": [
    "ds['License Category'].unique()"
   ]
  },
  {
   "cell_type": "code",
   "execution_count": 21,
   "metadata": {
    "collapsed": false
   },
   "outputs": [
    {
     "data": {
      "text/html": [
       "<div>\n",
       "<table border=\"1\" class=\"dataframe\">\n",
       "  <thead>\n",
       "    <tr style=\"text-align: right;\">\n",
       "      <th></th>\n",
       "      <th>License Category</th>\n",
       "    </tr>\n",
       "    <tr>\n",
       "      <th>License Category</th>\n",
       "      <th></th>\n",
       "    </tr>\n",
       "  </thead>\n",
       "  <tbody>\n",
       "    <tr>\n",
       "      <th>Amusement Arcade</th>\n",
       "      <td>20</td>\n",
       "    </tr>\n",
       "    <tr>\n",
       "      <th>Amusement Device Permanent</th>\n",
       "      <td>117</td>\n",
       "    </tr>\n",
       "    <tr>\n",
       "      <th>Amusement Device Portable</th>\n",
       "      <td>500</td>\n",
       "    </tr>\n",
       "    <tr>\n",
       "      <th>Amusement Device Temporary</th>\n",
       "      <td>6</td>\n",
       "    </tr>\n",
       "    <tr>\n",
       "      <th>Auction House Premises</th>\n",
       "      <td>31</td>\n",
       "    </tr>\n",
       "    <tr>\n",
       "      <th>Bingo Game Operator</th>\n",
       "      <td>61</td>\n",
       "    </tr>\n",
       "    <tr>\n",
       "      <th>Booting Company</th>\n",
       "      <td>3</td>\n",
       "    </tr>\n",
       "    <tr>\n",
       "      <th>Cabaret</th>\n",
       "      <td>137</td>\n",
       "    </tr>\n",
       "    <tr>\n",
       "      <th>Catering Establishment</th>\n",
       "      <td>57</td>\n",
       "    </tr>\n",
       "    <tr>\n",
       "      <th>Cigarette Retail Dealer</th>\n",
       "      <td>8985</td>\n",
       "    </tr>\n",
       "    <tr>\n",
       "      <th>Commercial Lessor</th>\n",
       "      <td>7</td>\n",
       "    </tr>\n",
       "    <tr>\n",
       "      <th>Dealer In Products</th>\n",
       "      <td>748</td>\n",
       "    </tr>\n",
       "    <tr>\n",
       "      <th>Debt Collection Agency</th>\n",
       "      <td>357</td>\n",
       "    </tr>\n",
       "    <tr>\n",
       "      <th>Electronic &amp; Appliance Service</th>\n",
       "      <td>1617</td>\n",
       "    </tr>\n",
       "    <tr>\n",
       "      <th>Electronics Store</th>\n",
       "      <td>4388</td>\n",
       "    </tr>\n",
       "    <tr>\n",
       "      <th>Employment Agency</th>\n",
       "      <td>303</td>\n",
       "    </tr>\n",
       "    <tr>\n",
       "      <th>Games of Chance</th>\n",
       "      <td>132</td>\n",
       "    </tr>\n",
       "    <tr>\n",
       "      <th>Gaming Cafe</th>\n",
       "      <td>31</td>\n",
       "    </tr>\n",
       "    <tr>\n",
       "      <th>Garage</th>\n",
       "      <td>1229</td>\n",
       "    </tr>\n",
       "    <tr>\n",
       "      <th>Garage and Parking Lot</th>\n",
       "      <td>109</td>\n",
       "    </tr>\n",
       "    <tr>\n",
       "      <th>General Vendor</th>\n",
       "      <td>28</td>\n",
       "    </tr>\n",
       "    <tr>\n",
       "      <th>General Vendor Distributor</th>\n",
       "      <td>2</td>\n",
       "    </tr>\n",
       "    <tr>\n",
       "      <th>Home Improvement Contractor</th>\n",
       "      <td>13788</td>\n",
       "    </tr>\n",
       "    <tr>\n",
       "      <th>Home Improvement Salesperson</th>\n",
       "      <td>22</td>\n",
       "    </tr>\n",
       "    <tr>\n",
       "      <th>Horse Drawn Cab Owner</th>\n",
       "      <td>67</td>\n",
       "    </tr>\n",
       "    <tr>\n",
       "      <th>Laundry</th>\n",
       "      <td>2374</td>\n",
       "    </tr>\n",
       "    <tr>\n",
       "      <th>Laundry Jobber</th>\n",
       "      <td>1610</td>\n",
       "    </tr>\n",
       "    <tr>\n",
       "      <th>Newsstand</th>\n",
       "      <td>309</td>\n",
       "    </tr>\n",
       "    <tr>\n",
       "      <th>Parking Lot</th>\n",
       "      <td>447</td>\n",
       "    </tr>\n",
       "    <tr>\n",
       "      <th>Pawnbroker</th>\n",
       "      <td>347</td>\n",
       "    </tr>\n",
       "    <tr>\n",
       "      <th>Pedicab Business</th>\n",
       "      <td>270</td>\n",
       "    </tr>\n",
       "    <tr>\n",
       "      <th>Pedicab Driver</th>\n",
       "      <td>3</td>\n",
       "    </tr>\n",
       "    <tr>\n",
       "      <th>Pool or Billiard Room</th>\n",
       "      <td>53</td>\n",
       "    </tr>\n",
       "    <tr>\n",
       "      <th>Process Server Individual</th>\n",
       "      <td>1</td>\n",
       "    </tr>\n",
       "    <tr>\n",
       "      <th>Process Serving Agency</th>\n",
       "      <td>109</td>\n",
       "    </tr>\n",
       "    <tr>\n",
       "      <th>Scale Dealer Repairer</th>\n",
       "      <td>26</td>\n",
       "    </tr>\n",
       "    <tr>\n",
       "      <th>Scrap Metal Processor</th>\n",
       "      <td>66</td>\n",
       "    </tr>\n",
       "    <tr>\n",
       "      <th>Secondhand Dealer - Auto</th>\n",
       "      <td>764</td>\n",
       "    </tr>\n",
       "    <tr>\n",
       "      <th>Secondhand Dealer - Firearms</th>\n",
       "      <td>4</td>\n",
       "    </tr>\n",
       "    <tr>\n",
       "      <th>Secondhand Dealer - General</th>\n",
       "      <td>5099</td>\n",
       "    </tr>\n",
       "    <tr>\n",
       "      <th>Sidewalk Cafe</th>\n",
       "      <td>1375</td>\n",
       "    </tr>\n",
       "    <tr>\n",
       "      <th>Sightseeing Bus</th>\n",
       "      <td>8</td>\n",
       "    </tr>\n",
       "    <tr>\n",
       "      <th>Special Sale</th>\n",
       "      <td>5</td>\n",
       "    </tr>\n",
       "    <tr>\n",
       "      <th>Stoop Line Stand</th>\n",
       "      <td>2026</td>\n",
       "    </tr>\n",
       "    <tr>\n",
       "      <th>Storage Warehouse</th>\n",
       "      <td>56</td>\n",
       "    </tr>\n",
       "    <tr>\n",
       "      <th>Ticket Seller</th>\n",
       "      <td>2</td>\n",
       "    </tr>\n",
       "    <tr>\n",
       "      <th>Tow Truck Company</th>\n",
       "      <td>533</td>\n",
       "    </tr>\n",
       "    <tr>\n",
       "      <th>Tow Truck Driver</th>\n",
       "      <td>6</td>\n",
       "    </tr>\n",
       "    <tr>\n",
       "      <th>Tow Truck Exemption</th>\n",
       "      <td>43</td>\n",
       "    </tr>\n",
       "  </tbody>\n",
       "</table>\n",
       "</div>"
      ],
      "text/plain": [
       "                                License Category\n",
       "License Category                                \n",
       "Amusement Arcade                              20\n",
       "Amusement Device Permanent                   117\n",
       "Amusement Device Portable                    500\n",
       "Amusement Device Temporary                     6\n",
       "Auction House Premises                        31\n",
       "Bingo Game Operator                           61\n",
       "Booting Company                                3\n",
       "Cabaret                                      137\n",
       "Catering Establishment                        57\n",
       "Cigarette Retail Dealer                     8985\n",
       "Commercial Lessor                              7\n",
       "Dealer In Products                           748\n",
       "Debt Collection Agency                       357\n",
       "Electronic & Appliance Service              1617\n",
       "Electronics Store                           4388\n",
       "Employment Agency                            303\n",
       "Games of Chance                              132\n",
       "Gaming Cafe                                   31\n",
       "Garage                                      1229\n",
       "Garage and Parking Lot                       109\n",
       "General Vendor                                28\n",
       "General Vendor Distributor                     2\n",
       "Home Improvement Contractor                13788\n",
       "Home Improvement Salesperson                  22\n",
       "Horse Drawn Cab Owner                         67\n",
       "Laundry                                     2374\n",
       "Laundry Jobber                              1610\n",
       "Newsstand                                    309\n",
       "Parking Lot                                  447\n",
       "Pawnbroker                                   347\n",
       "Pedicab Business                             270\n",
       "Pedicab Driver                                 3\n",
       "Pool or Billiard Room                         53\n",
       "Process Server Individual                      1\n",
       "Process Serving Agency                       109\n",
       "Scale Dealer Repairer                         26\n",
       "Scrap Metal Processor                         66\n",
       "Secondhand Dealer - Auto                     764\n",
       "Secondhand Dealer - Firearms                   4\n",
       "Secondhand Dealer - General                 5099\n",
       "Sidewalk Cafe                               1375\n",
       "Sightseeing Bus                                8\n",
       "Special Sale                                   5\n",
       "Stoop Line Stand                            2026\n",
       "Storage Warehouse                             56\n",
       "Ticket Seller                                  2\n",
       "Tow Truck Company                            533\n",
       "Tow Truck Driver                               6\n",
       "Tow Truck Exemption                           43"
      ]
     },
     "execution_count": 21,
     "metadata": {},
     "output_type": "execute_result"
    }
   ],
   "source": [
    "ds.groupby('License Category').agg({'License Category':'count'})"
   ]
  },
  {
   "cell_type": "code",
   "execution_count": 62,
   "metadata": {
    "collapsed": false
   },
   "outputs": [],
   "source": [
    "ds_count = ds.groupby(['License Category','Address Borough']).agg({'License Category':'count'})"
   ]
  },
  {
   "cell_type": "code",
   "execution_count": 63,
   "metadata": {
    "collapsed": true
   },
   "outputs": [],
   "source": [
    "ds_count.columns = ['tot_count']"
   ]
  },
  {
   "cell_type": "code",
   "execution_count": 64,
   "metadata": {
    "collapsed": false
   },
   "outputs": [],
   "source": [
    "ds_count = ds_count.unstack().fillna(0)"
   ]
  },
  {
   "cell_type": "code",
   "execution_count": 67,
   "metadata": {
    "collapsed": false
   },
   "outputs": [],
   "source": [
    "ds_count.columns = ds_count.columns.droplevel(0)"
   ]
  },
  {
   "cell_type": "code",
   "execution_count": 68,
   "metadata": {
    "collapsed": false
   },
   "outputs": [
    {
     "data": {
      "text/plain": [
       "<matplotlib.axes._subplots.AxesSubplot at 0x10f7d3ef0>"
      ]
     },
     "execution_count": 68,
     "metadata": {},
     "output_type": "execute_result"
    },
    {
     "data": {
      "image/png": "[encoded data removed]",
      "text/plain": [
       "<matplotlib.figure.Figure at 0x10fde7f28>"
      ]
     },
     "metadata": {},
     "output_type": "display_data"
    }
   ],
   "source": [
    "ds_count.plot.barh(stacked=True)"
   ]
  },
  {
   "cell_type": "code",
   "execution_count": 69,
   "metadata": {
    "collapsed": false
   },
   "outputs": [
    {
     "data": {
      "text/html": [
       "<div>\n",
       "<table border=\"1\" class=\"dataframe\">\n",
       "  <thead>\n",
       "    <tr style=\"text-align: right;\">\n",
       "      <th>Address Borough</th>\n",
       "      <th>bronx</th>\n",
       "      <th>brooklyn</th>\n",
       "      <th>manhattan</th>\n",
       "      <th>outside nyc</th>\n",
       "      <th>queens</th>\n",
       "      <th>staten island</th>\n",
       "    </tr>\n",
       "    <tr>\n",
       "      <th>License Category</th>\n",
       "      <th></th>\n",
       "      <th></th>\n",
       "      <th></th>\n",
       "      <th></th>\n",
       "      <th></th>\n",
       "      <th></th>\n",
       "    </tr>\n",
       "  </thead>\n",
       "  <tbody>\n",
       "    <tr>\n",
       "      <th>Amusement Arcade</th>\n",
       "      <td>2.0</td>\n",
       "      <td>9.0</td>\n",
       "      <td>4.0</td>\n",
       "      <td>0.0</td>\n",
       "      <td>4.0</td>\n",
       "      <td>1.0</td>\n",
       "    </tr>\n",
       "    <tr>\n",
       "      <th>Amusement Device Permanent</th>\n",
       "      <td>1.0</td>\n",
       "      <td>87.0</td>\n",
       "      <td>13.0</td>\n",
       "      <td>0.0</td>\n",
       "      <td>4.0</td>\n",
       "      <td>12.0</td>\n",
       "    </tr>\n",
       "    <tr>\n",
       "      <th>Amusement Device Portable</th>\n",
       "      <td>48.0</td>\n",
       "      <td>73.0</td>\n",
       "      <td>5.0</td>\n",
       "      <td>166.0</td>\n",
       "      <td>31.0</td>\n",
       "      <td>177.0</td>\n",
       "    </tr>\n",
       "    <tr>\n",
       "      <th>Amusement Device Temporary</th>\n",
       "      <td>0.0</td>\n",
       "      <td>1.0</td>\n",
       "      <td>2.0</td>\n",
       "      <td>0.0</td>\n",
       "      <td>3.0</td>\n",
       "      <td>0.0</td>\n",
       "    </tr>\n",
       "    <tr>\n",
       "      <th>Auction House Premises</th>\n",
       "      <td>1.0</td>\n",
       "      <td>0.0</td>\n",
       "      <td>24.0</td>\n",
       "      <td>1.0</td>\n",
       "      <td>5.0</td>\n",
       "      <td>0.0</td>\n",
       "    </tr>\n",
       "  </tbody>\n",
       "</table>\n",
       "</div>"
      ],
      "text/plain": [
       "Address Borough             bronx  brooklyn  manhattan  outside nyc  queens  \\\n",
       "License Category                                                              \n",
       "Amusement Arcade              2.0       9.0        4.0          0.0     4.0   \n",
       "Amusement Device Permanent    1.0      87.0       13.0          0.0     4.0   \n",
       "Amusement Device Portable    48.0      73.0        5.0        166.0    31.0   \n",
       "Amusement Device Temporary    0.0       1.0        2.0          0.0     3.0   \n",
       "Auction House Premises        1.0       0.0       24.0          1.0     5.0   \n",
       "\n",
       "Address Borough             staten island  \n",
       "License Category                           \n",
       "Amusement Arcade                      1.0  \n",
       "Amusement Device Permanent           12.0  \n",
       "Amusement Device Portable           177.0  \n",
       "Amusement Device Temporary            0.0  \n",
       "Auction House Premises                0.0  "
      ]
     },
     "execution_count": 69,
     "metadata": {},
     "output_type": "execute_result"
    }
   ],
   "source": [
    "ds_count.head()"
   ]
  },
  {
   "cell_type": "code",
   "execution_count": 70,
   "metadata": {
    "collapsed": true
   },
   "outputs": [],
   "source": [
    "ds_c2 = ds.groupby(['License Category','Address Borough']).agg({'License Category':'count'})"
   ]
  },
  {
   "cell_type": "code",
   "execution_count": 73,
   "metadata": {
    "collapsed": false
   },
   "outputs": [],
   "source": [
    "ds_c2.columns = ['tot_count']"
   ]
  },
  {
   "cell_type": "code",
   "execution_count": 76,
   "metadata": {
    "collapsed": false
   },
   "outputs": [],
   "source": [
    "ds_c2 = ds_c2.reset_index()"
   ]
  },
  {
   "cell_type": "code",
   "execution_count": 78,
   "metadata": {
    "collapsed": false
   },
   "outputs": [
    {
     "data": {
      "text/plain": [
       "array(['bronx', 'brooklyn', 'manhattan', 'queens', 'staten island',\n",
       "       'outside nyc'], dtype=object)"
      ]
     },
     "execution_count": 78,
     "metadata": {},
     "output_type": "execute_result"
    }
   ],
   "source": [
    "ds_c2['Address Borough'].unique()"
   ]
  },
  {
   "cell_type": "code",
   "execution_count": 79,
   "metadata": {
    "collapsed": true
   },
   "outputs": [],
   "source": [
    "ds_c2 = ds_c2[ds_c2['Address Borough']!='outside nyc']"
   ]
  },
  {
   "cell_type": "code",
   "execution_count": 80,
   "metadata": {
    "collapsed": true
   },
   "outputs": [],
   "source": [
    "ds_c2.to_csv('business_borough.csv')"
   ]
  },
  {
   "cell_type": "code",
   "execution_count": 81,
   "metadata": {
    "collapsed": false
   },
   "outputs": [
    {
     "data": {
      "text/html": [
       "<div>\n",
       "<table border=\"1\" class=\"dataframe\">\n",
       "  <thead>\n",
       "    <tr style=\"text-align: right;\">\n",
       "      <th></th>\n",
       "      <th>License Category</th>\n",
       "      <th>Address Borough</th>\n",
       "      <th>tot_count</th>\n",
       "    </tr>\n",
       "  </thead>\n",
       "  <tbody>\n",
       "    <tr>\n",
       "      <th>0</th>\n",
       "      <td>Amusement Arcade</td>\n",
       "      <td>bronx</td>\n",
       "      <td>2</td>\n",
       "    </tr>\n",
       "    <tr>\n",
       "      <th>1</th>\n",
       "      <td>Amusement Arcade</td>\n",
       "      <td>brooklyn</td>\n",
       "      <td>9</td>\n",
       "    </tr>\n",
       "    <tr>\n",
       "      <th>2</th>\n",
       "      <td>Amusement Arcade</td>\n",
       "      <td>manhattan</td>\n",
       "      <td>4</td>\n",
       "    </tr>\n",
       "    <tr>\n",
       "      <th>3</th>\n",
       "      <td>Amusement Arcade</td>\n",
       "      <td>queens</td>\n",
       "      <td>4</td>\n",
       "    </tr>\n",
       "    <tr>\n",
       "      <th>4</th>\n",
       "      <td>Amusement Arcade</td>\n",
       "      <td>staten island</td>\n",
       "      <td>1</td>\n",
       "    </tr>\n",
       "  </tbody>\n",
       "</table>\n",
       "</div>"
      ],
      "text/plain": [
       "   License Category Address Borough  tot_count\n",
       "0  Amusement Arcade           bronx          2\n",
       "1  Amusement Arcade        brooklyn          9\n",
       "2  Amusement Arcade       manhattan          4\n",
       "3  Amusement Arcade          queens          4\n",
       "4  Amusement Arcade   staten island          1"
      ]
     },
     "execution_count": 81,
     "metadata": {},
     "output_type": "execute_result"
    }
   ],
   "source": [
    "ds_c2.head()"
   ]
  },
  {
   "cell_type": "code",
   "execution_count": 141,
   "metadata": {
    "collapsed": false
   },
   "outputs": [],
   "source": [
    "ds_c3 = ds[['Address Borough', 'License Category']]"
   ]
  },
  {
   "cell_type": "code",
   "execution_count": null,
   "metadata": {
    "collapsed": true
   },
   "outputs": [],
   "source": [
    "ds_c3.loc[ds_c3['License Category'].apply(lambda x: x.lower()) == 'laundry jobber', 'License Category'] = 'Laundry'"
   ]
  },
  {
   "cell_type": "code",
   "execution_count": 146,
   "metadata": {
    "collapsed": false
   },
   "outputs": [],
   "source": [
    "boro_count = ds_c3.groupby('Address Borough').count()"
   ]
  },
  {
   "cell_type": "code",
   "execution_count": 147,
   "metadata": {
    "collapsed": true
   },
   "outputs": [],
   "source": [
    "boro_count.columns = ['boro_count']"
   ]
  },
  {
   "cell_type": "code",
   "execution_count": 148,
   "metadata": {
    "collapsed": true
   },
   "outputs": [],
   "source": [
    "boro_count = boro_count.reset_index()"
   ]
  },
  {
   "cell_type": "code",
   "execution_count": 149,
   "metadata": {
    "collapsed": false
   },
   "outputs": [
    {
     "data": {
      "text/html": [
       "<div>\n",
       "<table border=\"1\" class=\"dataframe\">\n",
       "  <thead>\n",
       "    <tr style=\"text-align: right;\">\n",
       "      <th></th>\n",
       "      <th>Address Borough</th>\n",
       "      <th>boro_count</th>\n",
       "    </tr>\n",
       "  </thead>\n",
       "  <tbody>\n",
       "    <tr>\n",
       "      <th>0</th>\n",
       "      <td>bronx</td>\n",
       "      <td>6101</td>\n",
       "    </tr>\n",
       "    <tr>\n",
       "      <th>1</th>\n",
       "      <td>brooklyn</td>\n",
       "      <td>12825</td>\n",
       "    </tr>\n",
       "    <tr>\n",
       "      <th>2</th>\n",
       "      <td>manhattan</td>\n",
       "      <td>10872</td>\n",
       "    </tr>\n",
       "    <tr>\n",
       "      <th>3</th>\n",
       "      <td>outside nyc</td>\n",
       "      <td>3308</td>\n",
       "    </tr>\n",
       "    <tr>\n",
       "      <th>4</th>\n",
       "      <td>queens</td>\n",
       "      <td>12335</td>\n",
       "    </tr>\n",
       "    <tr>\n",
       "      <th>5</th>\n",
       "      <td>staten island</td>\n",
       "      <td>2840</td>\n",
       "    </tr>\n",
       "  </tbody>\n",
       "</table>\n",
       "</div>"
      ],
      "text/plain": [
       "  Address Borough  boro_count\n",
       "0           bronx        6101\n",
       "1        brooklyn       12825\n",
       "2       manhattan       10872\n",
       "3     outside nyc        3308\n",
       "4          queens       12335\n",
       "5   staten island        2840"
      ]
     },
     "execution_count": 149,
     "metadata": {},
     "output_type": "execute_result"
    }
   ],
   "source": [
    "boro_count"
   ]
  },
  {
   "cell_type": "code",
   "execution_count": 150,
   "metadata": {
    "collapsed": false
   },
   "outputs": [],
   "source": [
    "ds_c3 = pd.merge(ds_c3, boro_count, on='Address Borough')"
   ]
  },
  {
   "cell_type": "code",
   "execution_count": 151,
   "metadata": {
    "collapsed": true
   },
   "outputs": [],
   "source": [
    "typeboro_count = ds_c3.groupby(['Address Borough','License Category']).count()"
   ]
  },
  {
   "cell_type": "code",
   "execution_count": 152,
   "metadata": {
    "collapsed": false
   },
   "outputs": [],
   "source": [
    "typeboro_count.columns = ['typeboro_count']"
   ]
  },
  {
   "cell_type": "code",
   "execution_count": 153,
   "metadata": {
    "collapsed": true
   },
   "outputs": [],
   "source": [
    "typeboro_count = typeboro_count.reset_index()"
   ]
  },
  {
   "cell_type": "code",
   "execution_count": 154,
   "metadata": {
    "collapsed": false
   },
   "outputs": [],
   "source": [
    "ds_c3 = pd.merge(ds_c3, typeboro_count, on=['Address Borough','License Category'])"
   ]
  },
  {
   "cell_type": "code",
   "execution_count": 155,
   "metadata": {
    "collapsed": false
   },
   "outputs": [],
   "source": [
    "ds_c3 = ds_c3.drop_duplicates().reset_index().drop(['index'], axis=1)"
   ]
  },
  {
   "cell_type": "code",
   "execution_count": 156,
   "metadata": {
    "collapsed": true
   },
   "outputs": [],
   "source": [
    "ds_c3['%_boro'] = ds_c3['typeboro_count'] / ds_c3['boro_count']"
   ]
  },
  {
   "cell_type": "code",
   "execution_count": 157,
   "metadata": {
    "collapsed": false
   },
   "outputs": [
    {
     "data": {
      "text/html": [
       "<div>\n",
       "<table border=\"1\" class=\"dataframe\">\n",
       "  <thead>\n",
       "    <tr style=\"text-align: right;\">\n",
       "      <th></th>\n",
       "      <th>Address Borough</th>\n",
       "      <th>License Category</th>\n",
       "      <th>boro_count</th>\n",
       "      <th>typeboro_count</th>\n",
       "      <th>%_boro</th>\n",
       "    </tr>\n",
       "  </thead>\n",
       "  <tbody>\n",
       "    <tr>\n",
       "      <th>0</th>\n",
       "      <td>queens</td>\n",
       "      <td>Home Improvement Contractor</td>\n",
       "      <td>12335</td>\n",
       "      <td>4171</td>\n",
       "      <td>0.338143</td>\n",
       "    </tr>\n",
       "    <tr>\n",
       "      <th>1</th>\n",
       "      <td>queens</td>\n",
       "      <td>Cigarette Retail Dealer</td>\n",
       "      <td>12335</td>\n",
       "      <td>2115</td>\n",
       "      <td>0.171463</td>\n",
       "    </tr>\n",
       "    <tr>\n",
       "      <th>2</th>\n",
       "      <td>queens</td>\n",
       "      <td>Electronics Store</td>\n",
       "      <td>12335</td>\n",
       "      <td>1202</td>\n",
       "      <td>0.097446</td>\n",
       "    </tr>\n",
       "    <tr>\n",
       "      <th>3</th>\n",
       "      <td>queens</td>\n",
       "      <td>Secondhand Dealer - General</td>\n",
       "      <td>12335</td>\n",
       "      <td>1264</td>\n",
       "      <td>0.102473</td>\n",
       "    </tr>\n",
       "    <tr>\n",
       "      <th>4</th>\n",
       "      <td>queens</td>\n",
       "      <td>Laundry</td>\n",
       "      <td>12335</td>\n",
       "      <td>1056</td>\n",
       "      <td>0.085610</td>\n",
       "    </tr>\n",
       "  </tbody>\n",
       "</table>\n",
       "</div>"
      ],
      "text/plain": [
       "  Address Borough             License Category  boro_count  typeboro_count  \\\n",
       "0          queens  Home Improvement Contractor       12335            4171   \n",
       "1          queens      Cigarette Retail Dealer       12335            2115   \n",
       "2          queens            Electronics Store       12335            1202   \n",
       "3          queens  Secondhand Dealer - General       12335            1264   \n",
       "4          queens                      Laundry       12335            1056   \n",
       "\n",
       "     %_boro  \n",
       "0  0.338143  \n",
       "1  0.171463  \n",
       "2  0.097446  \n",
       "3  0.102473  \n",
       "4  0.085610  "
      ]
     },
     "execution_count": 157,
     "metadata": {},
     "output_type": "execute_result"
    }
   ],
   "source": [
    "ds_c3.head()"
   ]
  },
  {
   "cell_type": "code",
   "execution_count": 158,
   "metadata": {
    "collapsed": true
   },
   "outputs": [],
   "source": [
    "ds_c3 = ds_c3[ds_c3['Address Borough']!='outside nyc']"
   ]
  },
  {
   "cell_type": "code",
   "execution_count": 159,
   "metadata": {
    "collapsed": false
   },
   "outputs": [
    {
     "data": {
      "text/plain": [
       "16"
      ]
     },
     "execution_count": 159,
     "metadata": {},
     "output_type": "execute_result"
    }
   ],
   "source": [
    "len(ds_c3[ds_c3['%_boro']>=.1])"
   ]
  },
  {
   "cell_type": "code",
   "execution_count": 160,
   "metadata": {
    "collapsed": false
   },
   "outputs": [
    {
     "data": {
      "text/html": [
       "<div>\n",
       "<table border=\"1\" class=\"dataframe\">\n",
       "  <thead>\n",
       "    <tr style=\"text-align: right;\">\n",
       "      <th></th>\n",
       "      <th>Address Borough</th>\n",
       "      <th>License Category</th>\n",
       "      <th>boro_count</th>\n",
       "      <th>typeboro_count</th>\n",
       "      <th>%_boro</th>\n",
       "    </tr>\n",
       "  </thead>\n",
       "  <tbody>\n",
       "    <tr>\n",
       "      <th>0</th>\n",
       "      <td>queens</td>\n",
       "      <td>Home Improvement Contractor</td>\n",
       "      <td>12335</td>\n",
       "      <td>4171</td>\n",
       "      <td>0.338143</td>\n",
       "    </tr>\n",
       "    <tr>\n",
       "      <th>1</th>\n",
       "      <td>queens</td>\n",
       "      <td>Cigarette Retail Dealer</td>\n",
       "      <td>12335</td>\n",
       "      <td>2115</td>\n",
       "      <td>0.171463</td>\n",
       "    </tr>\n",
       "    <tr>\n",
       "      <th>2</th>\n",
       "      <td>queens</td>\n",
       "      <td>Electronics Store</td>\n",
       "      <td>12335</td>\n",
       "      <td>1202</td>\n",
       "      <td>0.097446</td>\n",
       "    </tr>\n",
       "    <tr>\n",
       "      <th>3</th>\n",
       "      <td>queens</td>\n",
       "      <td>Secondhand Dealer - General</td>\n",
       "      <td>12335</td>\n",
       "      <td>1264</td>\n",
       "      <td>0.102473</td>\n",
       "    </tr>\n",
       "    <tr>\n",
       "      <th>4</th>\n",
       "      <td>queens</td>\n",
       "      <td>Laundry</td>\n",
       "      <td>12335</td>\n",
       "      <td>1056</td>\n",
       "      <td>0.085610</td>\n",
       "    </tr>\n",
       "    <tr>\n",
       "      <th>42</th>\n",
       "      <td>brooklyn</td>\n",
       "      <td>Cigarette Retail Dealer</td>\n",
       "      <td>12825</td>\n",
       "      <td>2725</td>\n",
       "      <td>0.212476</td>\n",
       "    </tr>\n",
       "    <tr>\n",
       "      <th>43</th>\n",
       "      <td>brooklyn</td>\n",
       "      <td>Home Improvement Contractor</td>\n",
       "      <td>12825</td>\n",
       "      <td>3339</td>\n",
       "      <td>0.260351</td>\n",
       "    </tr>\n",
       "    <tr>\n",
       "      <th>44</th>\n",
       "      <td>brooklyn</td>\n",
       "      <td>Stoop Line Stand</td>\n",
       "      <td>12825</td>\n",
       "      <td>745</td>\n",
       "      <td>0.058090</td>\n",
       "    </tr>\n",
       "    <tr>\n",
       "      <th>46</th>\n",
       "      <td>brooklyn</td>\n",
       "      <td>Laundry</td>\n",
       "      <td>12825</td>\n",
       "      <td>1234</td>\n",
       "      <td>0.096218</td>\n",
       "    </tr>\n",
       "    <tr>\n",
       "      <th>47</th>\n",
       "      <td>brooklyn</td>\n",
       "      <td>Secondhand Dealer - General</td>\n",
       "      <td>12825</td>\n",
       "      <td>1401</td>\n",
       "      <td>0.109240</td>\n",
       "    </tr>\n",
       "    <tr>\n",
       "      <th>49</th>\n",
       "      <td>brooklyn</td>\n",
       "      <td>Electronics Store</td>\n",
       "      <td>12825</td>\n",
       "      <td>1259</td>\n",
       "      <td>0.098168</td>\n",
       "    </tr>\n",
       "    <tr>\n",
       "      <th>87</th>\n",
       "      <td>manhattan</td>\n",
       "      <td>Home Improvement Contractor</td>\n",
       "      <td>10872</td>\n",
       "      <td>1215</td>\n",
       "      <td>0.111755</td>\n",
       "    </tr>\n",
       "    <tr>\n",
       "      <th>88</th>\n",
       "      <td>manhattan</td>\n",
       "      <td>Secondhand Dealer - General</td>\n",
       "      <td>10872</td>\n",
       "      <td>1296</td>\n",
       "      <td>0.119205</td>\n",
       "    </tr>\n",
       "    <tr>\n",
       "      <th>89</th>\n",
       "      <td>manhattan</td>\n",
       "      <td>Cigarette Retail Dealer</td>\n",
       "      <td>10872</td>\n",
       "      <td>2185</td>\n",
       "      <td>0.200975</td>\n",
       "    </tr>\n",
       "    <tr>\n",
       "      <th>90</th>\n",
       "      <td>manhattan</td>\n",
       "      <td>Electronics Store</td>\n",
       "      <td>10872</td>\n",
       "      <td>941</td>\n",
       "      <td>0.086553</td>\n",
       "    </tr>\n",
       "    <tr>\n",
       "      <th>92</th>\n",
       "      <td>manhattan</td>\n",
       "      <td>Laundry</td>\n",
       "      <td>10872</td>\n",
       "      <td>1130</td>\n",
       "      <td>0.103937</td>\n",
       "    </tr>\n",
       "    <tr>\n",
       "      <th>93</th>\n",
       "      <td>manhattan</td>\n",
       "      <td>Sidewalk Cafe</td>\n",
       "      <td>10872</td>\n",
       "      <td>1034</td>\n",
       "      <td>0.095107</td>\n",
       "    </tr>\n",
       "    <tr>\n",
       "      <th>95</th>\n",
       "      <td>manhattan</td>\n",
       "      <td>Garage</td>\n",
       "      <td>10872</td>\n",
       "      <td>892</td>\n",
       "      <td>0.082046</td>\n",
       "    </tr>\n",
       "    <tr>\n",
       "      <th>148</th>\n",
       "      <td>bronx</td>\n",
       "      <td>Secondhand Dealer - General</td>\n",
       "      <td>6101</td>\n",
       "      <td>914</td>\n",
       "      <td>0.149812</td>\n",
       "    </tr>\n",
       "    <tr>\n",
       "      <th>149</th>\n",
       "      <td>bronx</td>\n",
       "      <td>Electronics Store</td>\n",
       "      <td>6101</td>\n",
       "      <td>847</td>\n",
       "      <td>0.138830</td>\n",
       "    </tr>\n",
       "    <tr>\n",
       "      <th>150</th>\n",
       "      <td>bronx</td>\n",
       "      <td>Cigarette Retail Dealer</td>\n",
       "      <td>6101</td>\n",
       "      <td>1541</td>\n",
       "      <td>0.252582</td>\n",
       "    </tr>\n",
       "    <tr>\n",
       "      <th>151</th>\n",
       "      <td>bronx</td>\n",
       "      <td>Home Improvement Contractor</td>\n",
       "      <td>6101</td>\n",
       "      <td>922</td>\n",
       "      <td>0.151123</td>\n",
       "    </tr>\n",
       "    <tr>\n",
       "      <th>152</th>\n",
       "      <td>bronx</td>\n",
       "      <td>Laundry</td>\n",
       "      <td>6101</td>\n",
       "      <td>421</td>\n",
       "      <td>0.069005</td>\n",
       "    </tr>\n",
       "    <tr>\n",
       "      <th>187</th>\n",
       "      <td>staten island</td>\n",
       "      <td>Amusement Device Portable</td>\n",
       "      <td>2840</td>\n",
       "      <td>177</td>\n",
       "      <td>0.062324</td>\n",
       "    </tr>\n",
       "    <tr>\n",
       "      <th>188</th>\n",
       "      <td>staten island</td>\n",
       "      <td>Home Improvement Contractor</td>\n",
       "      <td>2840</td>\n",
       "      <td>1434</td>\n",
       "      <td>0.504930</td>\n",
       "    </tr>\n",
       "    <tr>\n",
       "      <th>190</th>\n",
       "      <td>staten island</td>\n",
       "      <td>Cigarette Retail Dealer</td>\n",
       "      <td>2840</td>\n",
       "      <td>418</td>\n",
       "      <td>0.147183</td>\n",
       "    </tr>\n",
       "    <tr>\n",
       "      <th>191</th>\n",
       "      <td>staten island</td>\n",
       "      <td>Secondhand Dealer - General</td>\n",
       "      <td>2840</td>\n",
       "      <td>223</td>\n",
       "      <td>0.078521</td>\n",
       "    </tr>\n",
       "    <tr>\n",
       "      <th>193</th>\n",
       "      <td>staten island</td>\n",
       "      <td>Laundry</td>\n",
       "      <td>2840</td>\n",
       "      <td>143</td>\n",
       "      <td>0.050352</td>\n",
       "    </tr>\n",
       "  </tbody>\n",
       "</table>\n",
       "</div>"
      ],
      "text/plain": [
       "    Address Borough             License Category  boro_count  typeboro_count  \\\n",
       "0            queens  Home Improvement Contractor       12335            4171   \n",
       "1            queens      Cigarette Retail Dealer       12335            2115   \n",
       "2            queens            Electronics Store       12335            1202   \n",
       "3            queens  Secondhand Dealer - General       12335            1264   \n",
       "4            queens                      Laundry       12335            1056   \n",
       "42         brooklyn      Cigarette Retail Dealer       12825            2725   \n",
       "43         brooklyn  Home Improvement Contractor       12825            3339   \n",
       "44         brooklyn             Stoop Line Stand       12825             745   \n",
       "46         brooklyn                      Laundry       12825            1234   \n",
       "47         brooklyn  Secondhand Dealer - General       12825            1401   \n",
       "49         brooklyn            Electronics Store       12825            1259   \n",
       "87        manhattan  Home Improvement Contractor       10872            1215   \n",
       "88        manhattan  Secondhand Dealer - General       10872            1296   \n",
       "89        manhattan      Cigarette Retail Dealer       10872            2185   \n",
       "90        manhattan            Electronics Store       10872             941   \n",
       "92        manhattan                      Laundry       10872            1130   \n",
       "93        manhattan                Sidewalk Cafe       10872            1034   \n",
       "95        manhattan                       Garage       10872             892   \n",
       "148           bronx  Secondhand Dealer - General        6101             914   \n",
       "149           bronx            Electronics Store        6101             847   \n",
       "150           bronx      Cigarette Retail Dealer        6101            1541   \n",
       "151           bronx  Home Improvement Contractor        6101             922   \n",
       "152           bronx                      Laundry        6101             421   \n",
       "187   staten island    Amusement Device Portable        2840             177   \n",
       "188   staten island  Home Improvement Contractor        2840            1434   \n",
       "190   staten island      Cigarette Retail Dealer        2840             418   \n",
       "191   staten island  Secondhand Dealer - General        2840             223   \n",
       "193   staten island                      Laundry        2840             143   \n",
       "\n",
       "       %_boro  \n",
       "0    0.338143  \n",
       "1    0.171463  \n",
       "2    0.097446  \n",
       "3    0.102473  \n",
       "4    0.085610  \n",
       "42   0.212476  \n",
       "43   0.260351  \n",
       "44   0.058090  \n",
       "46   0.096218  \n",
       "47   0.109240  \n",
       "49   0.098168  \n",
       "87   0.111755  \n",
       "88   0.119205  \n",
       "89   0.200975  \n",
       "90   0.086553  \n",
       "92   0.103937  \n",
       "93   0.095107  \n",
       "95   0.082046  \n",
       "148  0.149812  \n",
       "149  0.138830  \n",
       "150  0.252582  \n",
       "151  0.151123  \n",
       "152  0.069005  \n",
       "187  0.062324  \n",
       "188  0.504930  \n",
       "190  0.147183  \n",
       "191  0.078521  \n",
       "193  0.050352  "
      ]
     },
     "execution_count": 160,
     "metadata": {},
     "output_type": "execute_result"
    }
   ],
   "source": [
    "ds_c3[ds_c3['%_boro']>=.05]"
   ]
  },
  {
   "cell_type": "code",
   "execution_count": 162,
   "metadata": {
    "collapsed": false
   },
   "outputs": [
    {
     "data": {
      "image/png": "[encoded data removed]",
      "text/plain": [
       "<matplotlib.figure.Figure at 0x1125a72e8>"
      ]
     },
     "metadata": {},
     "output_type": "display_data"
    }
   ],
   "source": [
    "boroughs_plot = sns.factorplot(x='Address Borough', y='%_boro',\n",
    "               hue='License Category',\n",
    "               data=ds_c3[ds_c3['%_boro']>=.06],\n",
    "               kind='bar',\n",
    "              aspect = 2)"
   ]
  },
  {
   "cell_type": "code",
   "execution_count": 163,
   "metadata": {
    "collapsed": true
   },
   "outputs": [],
   "source": [
    "boroughs_plot.savefig('boroghs_plot.png')"
   ]
  }
 ],
 "metadata": {
  "kernelspec": {
   "display_name": "Python 2",
   "language": "python",
   "name": "python2"
  },
  "language_info": {
   "codemirror_mode": {
    "name": "ipython",
    "version": 2
   },
   "file_extension": ".py",
   "mimetype": "text/x-python",
   "name": "python",
   "nbconvert_exporter": "python",
   "pygments_lexer": "ipython2",
   "version": "2.7.11"
  }
 },
 "nbformat": 4,
 "nbformat_minor": 1
}
